{
 "cells": [
  {
   "cell_type": "markdown",
   "id": "4da8224f",
   "metadata": {
    "slideshow": {
     "slide_type": "slide"
    }
   },
   "source": [
    "<h1><center>Let's exploit pickle</center></h1>\n",
    "<h2><center>and skops to the rescue!</center></h2>\n",
    "<h3><center>Adrin Jalali</center></h3>\n",
    "<h4><center>github.com/adrinjalali</center></h3>\n",
    "<h4><center>@probabl.ai</center></h3>\n",
    "<h4><center>November 2024</center></h3>"
   ]
  },
  {
   "cell_type": "markdown",
   "id": "29c5e3cd",
   "metadata": {
    "slideshow": {
     "slide_type": "subslide"
    }
   },
   "source": [
    "## Me\n",
    "- PhD in interpretable methods for cancer diagnostics\n",
    "- ML consulting\n",
    "- Worked in an algorithmic privacy and fairness team\n",
    "- Open source\n",
    "    - `scikit-learn`\n",
    "    - `fairlearn`\n",
    "    - `skops`"
   ]
  },
  {
   "cell_type": "code",
   "execution_count": 1,
   "id": "b884a9ef",
   "metadata": {},
   "outputs": [],
   "source": [
    "import pickle"
   ]
  },
  {
   "cell_type": "code",
   "execution_count": 2,
   "id": "ba61b837",
   "metadata": {},
   "outputs": [
    {
     "name": "stdout",
     "output_type": "stream",
     "text": [
      "hello world\n"
     ]
    },
    {
     "data": {
      "text/plain": [
       "0"
      ]
     },
     "execution_count": 2,
     "metadata": {},
     "output_type": "execute_result"
    }
   ],
   "source": [
    "pickle.loads(b\"cos\\nsystem\\n(S'echo hello world'\\ntR.\")"
   ]
  },
  {
   "cell_type": "markdown",
   "id": "ac09dfb6",
   "metadata": {},
   "source": [
    "That relies on `os` being available, which we can customize when loading a pickle file:"
   ]
  },
  {
   "cell_type": "markdown",
   "id": "54c83532",
   "metadata": {},
   "source": [
    "\n",
    "``` python\n",
    "class RestrictedUnpickler(pickle.Unpickler):\n",
    "\n",
    "    def find_class(self, module, name):\n",
    "        # Only allow safe classes from builtins.\n",
    "        if module == \"builtins\" and name in safe_builtins:\n",
    "            return getattr(builtins, name)\n",
    "        # Forbid everything else.\n",
    "        raise pickle.UnpicklingError(\n",
    "            f\"global '{module}.{name}' is forbidden\"\n",
    "        )\n",
    "        \n",
    "with open(\"file.pkl\", \"rb\") as f:\n",
    "    obj = RestrictedUnpickler(f).load()\n",
    "```"
   ]
  },
  {
   "cell_type": "markdown",
   "id": "da13f6b9",
   "metadata": {},
   "source": [
    "*Exploits*: https://ctftime.org/writeup/16723"
   ]
  },
  {
   "cell_type": "markdown",
   "id": "a7d2cbb8",
   "metadata": {},
   "source": [
    "## PEP 307 - Extensions to the pickle protocol\n",
    "\n",
    "https://peps.python.org/pep-0307/#security-issues\n",
    "    \n",
    "<div>\n",
    "<img src=\"figs/security.png\" width=\"600\"/>\n",
    "</div>"
   ]
  },
  {
   "cell_type": "markdown",
   "id": "acb606ab",
   "metadata": {},
   "source": [
    "# pickles\n",
    "- Pickler\n",
    "- Unpickler\n",
    "- pickling instruction set (`OP` codes)"
   ]
  },
  {
   "cell_type": "markdown",
   "id": "baaaec02",
   "metadata": {},
   "source": [
    "# `__getstate__`, `__setstate__`\n",
    "\n",
    "https://docs.python.org/3/library/pickle.html"
   ]
  },
  {
   "cell_type": "code",
   "execution_count": 4,
   "id": "1e9ce5ed",
   "metadata": {},
   "outputs": [
    {
     "data": {
      "text/plain": [
       "42"
      ]
     },
     "execution_count": 4,
     "metadata": {},
     "output_type": "execute_result"
    }
   ],
   "source": [
    "class C:\n",
    "    def __getstate__(self):\n",
    "        return {\"a\": 42}\n",
    "    \n",
    "    def __setstate__(self, state):\n",
    "        for key, value in state.items():\n",
    "            setattr(self, key, value)\n",
    "            \n",
    "obj = pickle.loads(pickle.dumps(C()))\n",
    "obj.a"
   ]
  },
  {
   "cell_type": "code",
   "execution_count": 5,
   "id": "d1eb9610",
   "metadata": {},
   "outputs": [
    {
     "name": "stdout",
     "output_type": "stream",
     "text": [
      "    0: \\x80 PROTO      4\n",
      "    2: \\x95 FRAME      31\n",
      "   11: \\x8c SHORT_BINUNICODE '__main__'\n",
      "   21: \\x94 MEMOIZE    (as 0)\n",
      "   22: \\x8c SHORT_BINUNICODE 'C'\n",
      "   25: \\x94 MEMOIZE    (as 1)\n",
      "   26: \\x93 STACK_GLOBAL\n",
      "   27: \\x94 MEMOIZE    (as 2)\n",
      "   28: )    EMPTY_TUPLE\n",
      "   29: \\x81 NEWOBJ\n",
      "   30: \\x94 MEMOIZE    (as 3)\n",
      "   31: }    EMPTY_DICT\n",
      "   32: \\x94 MEMOIZE    (as 4)\n",
      "   33: \\x8c SHORT_BINUNICODE 'a'\n",
      "   36: \\x94 MEMOIZE    (as 5)\n",
      "   37: K    BININT1    42\n",
      "   39: s    SETITEM\n",
      "   40: b    BUILD\n",
      "   41: .    STOP\n",
      "highest protocol among opcodes = 4\n"
     ]
    }
   ],
   "source": [
    "import pickletools\n",
    "pickletools.dis(pickle.dumps(C()))"
   ]
  },
  {
   "cell_type": "code",
   "execution_count": 6,
   "id": "8cd4aed6",
   "metadata": {},
   "outputs": [
    {
     "data": {
      "text/plain": [
       "<__main__.C at 0x7d45b6b3a990>"
      ]
     },
     "execution_count": 6,
     "metadata": {},
     "output_type": "execute_result"
    }
   ],
   "source": [
    "with open(\"/tmp/dumps/oddpickle.pkl\", \"wb\") as f:\n",
    "    pickle.dump(C(), f)\n",
    "\n",
    "with open(\"/tmp/dumps/oddpickle.pkl\", \"rb\") as f:\n",
    "    obj = pickle.load(f)\n",
    "obj"
   ]
  },
  {
   "cell_type": "markdown",
   "id": "79238407",
   "metadata": {},
   "source": [
    "# `__reduce__` 👹\n",
    "https://docs.python.org/3/library/pickle.html#object.__reduce__\n",
    "\n",
    "Returns a tuple of up to size 6, the first two mandatory:\n",
    "\n",
    "- A callable object that will be called to create the initial version of the object.\n",
    "- A tuple of arguments for the callable object. An empty tuple must be given if the callable does not accept any argument."
   ]
  },
  {
   "cell_type": "code",
   "execution_count": 7,
   "id": "be1a13d4",
   "metadata": {},
   "outputs": [
    {
     "name": "stdout",
     "output_type": "stream",
     "text": [
      "    0: \\x80 PROTO      4\n",
      "    2: \\x95 FRAME      44\n",
      "   11: \\x8c SHORT_BINUNICODE 'builtins'\n",
      "   21: \\x94 MEMOIZE    (as 0)\n",
      "   22: \\x8c SHORT_BINUNICODE 'print'\n",
      "   29: \\x94 MEMOIZE    (as 1)\n",
      "   30: \\x93 STACK_GLOBAL\n",
      "   31: \\x94 MEMOIZE    (as 2)\n",
      "   32: \\x8c SHORT_BINUNICODE '!!!I SEE YOU!!!'\n",
      "   49: \\x94 MEMOIZE    (as 3)\n",
      "   50: \\x85 TUPLE1\n",
      "   51: \\x94 MEMOIZE    (as 4)\n",
      "   52: R    REDUCE\n",
      "   53: \\x94 MEMOIZE    (as 5)\n",
      "   54: .    STOP\n",
      "highest protocol among opcodes = 4\n"
     ]
    }
   ],
   "source": [
    "class D:\n",
    "    def __reduce__(self):\n",
    "        return (print, (\"!!!I SEE YOU!!!\",))\n",
    "    \n",
    "pickled = pickle.dumps(D())\n",
    "pickletools.dis(pickled)"
   ]
  },
  {
   "cell_type": "code",
   "execution_count": 8,
   "id": "1dafb779",
   "metadata": {},
   "outputs": [
    {
     "name": "stdout",
     "output_type": "stream",
     "text": [
      "!!!I SEE YOU!!!\n"
     ]
    }
   ],
   "source": [
    "pickle.loads(pickled)"
   ]
  },
  {
   "cell_type": "code",
   "execution_count": 9,
   "id": "0120a6f4",
   "metadata": {},
   "outputs": [
    {
     "name": "stdout",
     "output_type": "stream",
     "text": [
      "    0: \\x80 PROTO      4\n",
      "    2: \\x95 FRAME      80\n",
      "   11: \\x8c SHORT_BINUNICODE 'posix'\n",
      "   18: \\x94 MEMOIZE    (as 0)\n",
      "   19: \\x8c SHORT_BINUNICODE 'system'\n",
      "   27: \\x94 MEMOIZE    (as 1)\n",
      "   28: \\x93 STACK_GLOBAL\n",
      "   29: \\x94 MEMOIZE    (as 2)\n",
      "   30: \\x8c SHORT_BINUNICODE 'echo \"!!!I\\'m in YOUR SYSTEM!!!\" > /tmp/dumps/demo.txt'\n",
      "   85: \\x94 MEMOIZE    (as 3)\n",
      "   86: \\x85 TUPLE1\n",
      "   87: \\x94 MEMOIZE    (as 4)\n",
      "   88: R    REDUCE\n",
      "   89: \\x94 MEMOIZE    (as 5)\n",
      "   90: .    STOP\n",
      "highest protocol among opcodes = 4\n"
     ]
    }
   ],
   "source": [
    "import os\n",
    "class E:\n",
    "    def __reduce__(self):\n",
    "        return (\n",
    "            os.system,\n",
    "            (\"\"\"echo \"!!!I'm in YOUR SYSTEM!!!\" > /tmp/dumps/demo.txt\"\"\",),\n",
    "        )\n",
    "    \n",
    "pickled = pickle.dumps(E())\n",
    "pickletools.dis(pickled)"
   ]
  },
  {
   "cell_type": "code",
   "execution_count": 10,
   "id": "b8761840",
   "metadata": {},
   "outputs": [
    {
     "data": {
      "text/plain": [
       "0"
      ]
     },
     "execution_count": 10,
     "metadata": {},
     "output_type": "execute_result"
    }
   ],
   "source": [
    "pickle.loads(pickled)"
   ]
  },
  {
   "cell_type": "markdown",
   "id": "89a55853",
   "metadata": {},
   "source": [
    "# Other attacks\n",
    "- Denial of service\n",
    "    - Unhandled exceptions\n",
    "    - Protocol downgrades\n",
    "    - pickle bombs\n",
    "- Weird Machine\n",
    "    - Unused `OP` codes, such as `DUP`\n",
    "    - Parser abuse\n",
    "    - Stack corruption\n",
    "    \n",
    "source: https://github.com/moreati/pickle-fuzz"
   ]
  },
  {
   "cell_type": "code",
   "execution_count": 11,
   "id": "09f961b1",
   "metadata": {},
   "outputs": [
    {
     "name": "stdout",
     "output_type": "stream",
     "text": [
      "Module(\n",
      "    body=[\n",
      "        Assign(\n",
      "            targets=[\n",
      "                Name(id='result', ctx=Store())],\n",
      "            value=List(\n",
      "                elts=[\n",
      "                    Constant(value=1),\n",
      "                    Constant(value=2),\n",
      "                    Constant(value=3),\n",
      "                    Constant(value=4)],\n",
      "                ctx=Load()))],\n",
      "    type_ignores=[])\n"
     ]
    }
   ],
   "source": [
    "import ast\n",
    "import pickle\n",
    "from fickling.fickle import Pickled\n",
    "print(ast.dump(Pickled.load(pickle.dumps([1, 2, 3, 4])).ast, indent=4))"
   ]
  },
  {
   "cell_type": "code",
   "execution_count": 12,
   "id": "bab356f9",
   "metadata": {},
   "outputs": [
    {
     "name": "stdout",
     "output_type": "stream",
     "text": [
      "Module(\n",
      "    body=[\n",
      "        ImportFrom(\n",
      "            module='posix',\n",
      "            names=[\n",
      "                alias(name='system')],\n",
      "            level=0),\n",
      "        Assign(\n",
      "            targets=[\n",
      "                Name(id='_var0', ctx=Store())],\n",
      "            value=Call(\n",
      "                func=Name(id='system', ctx=Load()),\n",
      "                args=[\n",
      "                    Constant(value='echo \"!!!I\\'m in YOUR SYSTEM!!!\" > /tmp/dumps/demo.txt')],\n",
      "                keywords=[])),\n",
      "        Assign(\n",
      "            targets=[\n",
      "                Name(id='result', ctx=Store())],\n",
      "            value=Name(id='_var0', ctx=Load()))],\n",
      "    type_ignores=[])\n"
     ]
    }
   ],
   "source": [
    "print(ast.dump(Pickled.load(pickle.dumps(E())).ast, indent=4))"
   ]
  },
  {
   "cell_type": "code",
   "execution_count": 13,
   "id": "4a2cc559",
   "metadata": {},
   "outputs": [
    {
     "name": "stdout",
     "output_type": "stream",
     "text": [
      "from __main__ import C\n",
      "_var0 = C()\n",
      "_var0.__setstate__({'a': 42})\n",
      "result0 = _var0\n"
     ]
    }
   ],
   "source": [
    "!fickling /tmp/dumps/oddpickle.pkl"
   ]
  },
  {
   "cell_type": "code",
   "execution_count": 14,
   "id": "55315aa6",
   "metadata": {},
   "outputs": [],
   "source": [
    "with open(\"/tmp/dumps/badpickle.pkl\", \"wb\") as f:\n",
    "    pickle.dump(E(), f)"
   ]
  },
  {
   "cell_type": "code",
   "execution_count": 15,
   "id": "902f15e4",
   "metadata": {},
   "outputs": [
    {
     "name": "stdout",
     "output_type": "stream",
     "text": [
      "from posix import system\n",
      "_var0 = system('echo \"!!!I\\'m in YOUR SYSTEM!!!\" > /tmp/dumps/demo.txt')\n",
      "result0 = _var0\n"
     ]
    }
   ],
   "source": [
    "!fickling /tmp/dumps/badpickle.pkl"
   ]
  },
  {
   "cell_type": "code",
   "execution_count": 16,
   "id": "05ccb4e3",
   "metadata": {},
   "outputs": [],
   "source": [
    "from sklearn.linear_model import LogisticRegression\n",
    "from sklearn.datasets import load_iris\n",
    "\n",
    "X, y = load_iris(return_X_y=True)\n",
    "\n",
    "clf = LogisticRegression(solver=\"liblinear\").fit(X, y)\n",
    "with open(\"/tmp/dumps/goodpickle.pkl\", \"wb\") as f:\n",
    "    pickle.dump(clf, f)"
   ]
  },
  {
   "cell_type": "code",
   "execution_count": 17,
   "id": "83c74e1c",
   "metadata": {},
   "outputs": [
    {
     "name": "stdout",
     "output_type": "stream",
     "text": [
      "from sklearn.linear_model._logistic import LogisticRegression\n",
      "from numpy.core.multiarray import _reconstruct\n",
      "from numpy import ndarray\n",
      "_var0 = _reconstruct(ndarray, (0,), b'b')\n",
      "from numpy import dtype\n",
      "_var1 = dtype('i8', False, True)\n",
      "_var2 = _var1\n",
      "_var2.__setstate__((3, '<', None, None, None, -1, -1, 0))\n",
      "_var3 = _var0\n",
      "_var3.__setstate__((1, (3,), _var2, False, b'\\x00\\x00\\x00\\x00\\x00\\x00\\x00\\x00\\x01\\x00\\x00\\x00\\x00\\x00\\x00\\x00\\x02\\x00\\x00\\x00\\x00\\x00\\x00\\x00'))\n",
      "_var4 = _reconstruct(ndarray, (0,), b'b')\n",
      "_var5 = dtype('f8', False, True)\n",
      "_var6 = _var5\n",
      "_var6.__setstate__((3, '<', None, None, None, -1, -1, 0))\n",
      "_var7 = _var4\n",
      "_var7.__setstate__((1, (3, 4), _var6, True, b'# ?T\\xff@\\xda?z]5nM\\\\\\xdb?4z\\xa2\\x86\\xfbQ\\xfb\\xbf\\x0eh|N5m\\xf7?\\x1f\\xfb$3:\\xcb\\xf9\\xbf\\xbb\\x99m\\xbff\\x8c\\xf8\\xbfz\\xc8\\x01\\x01\\x8c\\x14\\x02\\xc0\\xa0\\xc9\\xc4e\\x18m\\xe2?\\xbds\\x82\\xa2\\x8a\\xc4\\x03@`\\xf08\\xe4(V\\xf0\\xbf\\x19\\\\}\\x85\\xaf\\x7f\\xf6\\xbf\\xfaL#\\nfq\\x04@'))\n",
      "_var8 = _reconstruct(ndarray, (0,), b'b')\n",
      "_var9 = _var8\n",
      "_var9.__setstate__((1, (3,), _var5, False, b\"\\xb4~?\\xd6\\xf4\\xe8\\xd0?\\x06\\xd5\\xfc'\\xb7\\x80\\xf1?E\\xc3\\xdc\\xe0ro\\xf3\\xbf\"))\n",
      "_var10 = _reconstruct(ndarray, (0,), b'b')\n",
      "_var11 = dtype('i4', False, True)\n",
      "_var12 = _var11\n",
      "_var12.__setstate__((3, '<', None, None, None, -1, -1, 0))\n",
      "_var13 = _var10\n",
      "_var13.__setstate__((1, (3,), _var12, False, b'\\x07\\x00\\x00\\x00\\x07\\x00\\x00\\x00\\x06\\x00\\x00\\x00'))\n",
      "_var14 = LogisticRegression()\n",
      "_var14.__setstate__({'penalty': 'l2', 'dual': False, 'tol': 0.0001, 'C': 1.0, 'fit_intercept': True, 'intercept_scaling': 1, 'class_weight': None, 'random_state': None, 'solver': 'liblinear', 'max_iter': 100, 'multi_class': 'deprecated', 'verbose': 0, 'warm_start': False, 'n_jobs': None, 'l1_ratio': None, 'n_features_in_': 4, 'classes_': _var3, 'coef_': _var7, 'intercept_': _var9, 'n_iter_': _var13, '_sklearn_version': '1.5.2'})\n",
      "result0 = _var14\n"
     ]
    }
   ],
   "source": [
    "!fickling /tmp/dumps/goodpickle.pkl"
   ]
  },
  {
   "cell_type": "markdown",
   "id": "1aedd127",
   "metadata": {},
   "source": [
    "**Fickling**: https://github.com/trailofbits/fickling"
   ]
  },
  {
   "cell_type": "markdown",
   "id": "4e72d429",
   "metadata": {},
   "source": [
    "# skops\n",
    "More secure persistence with `skops.io`\n",
    "\n",
    "https://skops.readthedocs.io/en/stable/persistence.html"
   ]
  },
  {
   "cell_type": "code",
   "execution_count": 18,
   "id": "80043c29",
   "metadata": {},
   "outputs": [
    {
     "ename": "UntrustedTypesFoundException",
     "evalue": "Untrusted types found in the file: ['__main__.D'].",
     "output_type": "error",
     "traceback": [
      "\u001b[0;31m---------------------------------------------------------------------------\u001b[0m",
      "\u001b[0;31mUntrustedTypesFoundException\u001b[0m              Traceback (most recent call last)",
      "Cell \u001b[0;32mIn[18], line 2\u001b[0m\n\u001b[1;32m      1\u001b[0m \u001b[38;5;28;01mimport\u001b[39;00m \u001b[38;5;21;01mskops\u001b[39;00m\u001b[38;5;21;01m.\u001b[39;00m\u001b[38;5;21;01mio\u001b[39;00m \u001b[38;5;28;01mas\u001b[39;00m \u001b[38;5;21;01msio\u001b[39;00m\n\u001b[0;32m----> 2\u001b[0m \u001b[43msio\u001b[49m\u001b[38;5;241;43m.\u001b[39;49m\u001b[43mloads\u001b[49m\u001b[43m(\u001b[49m\u001b[43msio\u001b[49m\u001b[38;5;241;43m.\u001b[39;49m\u001b[43mdumps\u001b[49m\u001b[43m(\u001b[49m\u001b[43mD\u001b[49m\u001b[43m(\u001b[49m\u001b[43m)\u001b[49m\u001b[43m)\u001b[49m\u001b[43m)\u001b[49m\n",
      "File \u001b[0;32m~/micromamba/envs/talks/lib/python3.12/site-packages/skops/io/_persist.py:191\u001b[0m, in \u001b[0;36mloads\u001b[0;34m(data, trusted)\u001b[0m\n\u001b[1;32m    189\u001b[0m     load_context \u001b[38;5;241m=\u001b[39m LoadContext(src\u001b[38;5;241m=\u001b[39mzip_file, protocol\u001b[38;5;241m=\u001b[39mschema[\u001b[38;5;124m\"\u001b[39m\u001b[38;5;124mprotocol\u001b[39m\u001b[38;5;124m\"\u001b[39m])\n\u001b[1;32m    190\u001b[0m     tree \u001b[38;5;241m=\u001b[39m get_tree(schema, load_context, trusted\u001b[38;5;241m=\u001b[39mtrusted)\n\u001b[0;32m--> 191\u001b[0m     \u001b[43maudit_tree\u001b[49m\u001b[43m(\u001b[49m\u001b[43mtree\u001b[49m\u001b[43m)\u001b[49m\n\u001b[1;32m    192\u001b[0m     instance \u001b[38;5;241m=\u001b[39m tree\u001b[38;5;241m.\u001b[39mconstruct()\n\u001b[1;32m    194\u001b[0m \u001b[38;5;28;01mreturn\u001b[39;00m instance\n",
      "File \u001b[0;32m~/micromamba/envs/talks/lib/python3.12/site-packages/skops/io/_audit.py:59\u001b[0m, in \u001b[0;36maudit_tree\u001b[0;34m(tree)\u001b[0m\n\u001b[1;32m     57\u001b[0m unsafe \u001b[38;5;241m=\u001b[39m tree\u001b[38;5;241m.\u001b[39mget_unsafe_set()\n\u001b[1;32m     58\u001b[0m \u001b[38;5;28;01mif\u001b[39;00m unsafe:\n\u001b[0;32m---> 59\u001b[0m     \u001b[38;5;28;01mraise\u001b[39;00m UntrustedTypesFoundException(unsafe)\n",
      "\u001b[0;31mUntrustedTypesFoundException\u001b[0m: Untrusted types found in the file: ['__main__.D']."
     ]
    }
   ],
   "source": [
    "import skops.io as sio\n",
    "sio.loads(sio.dumps(D()))"
   ]
  },
  {
   "cell_type": "code",
   "execution_count": null,
   "id": "f66d73c8",
   "metadata": {},
   "outputs": [],
   "source": [
    "sio.loads(sio.dumps(D()), trusted=['__main__.D'])"
   ]
  },
  {
   "cell_type": "markdown",
   "id": "fb9a6816",
   "metadata": {},
   "source": [
    "### File content\n",
    "\n",
    "Let's check dumped files!"
   ]
  },
  {
   "cell_type": "code",
   "execution_count": null,
   "id": "cee821b7",
   "metadata": {},
   "outputs": [],
   "source": [
    "sio.dump(D(), \"/tmp/dumps/D.skops\")"
   ]
  },
  {
   "cell_type": "code",
   "execution_count": 19,
   "id": "c2dc572a",
   "metadata": {},
   "outputs": [],
   "source": [
    "sio.dump(C(), \"/tmp/dumps/C.skops\")"
   ]
  },
  {
   "cell_type": "code",
   "execution_count": 20,
   "id": "d138a9a7",
   "metadata": {},
   "outputs": [],
   "source": [
    "sio.dump(clf, \"/tmp/dumps/lr.skops\")"
   ]
  },
  {
   "cell_type": "markdown",
   "id": "3cf81a39",
   "metadata": {},
   "source": [
    "## `numpy.save`\n",
    "\n",
    "https://numpy.org/doc/stable/reference/generated/numpy.save.html\n",
    "\n",
    "<div>\n",
    "<img src=\"figs/numpy-save.png\" width=\"600\"/>\n",
    "</div>"
   ]
  },
  {
   "cell_type": "markdown",
   "id": "45d29e6c",
   "metadata": {},
   "source": [
    "## `numpy.load`\n",
    "\n",
    "https://numpy.org/doc/stable/reference/generated/numpy.load.html\n",
    "\n",
    "<div>\n",
    "<img src=\"figs/numpy-load.png\" width=\"600\"/>\n",
    "</div>"
   ]
  },
  {
   "cell_type": "code",
   "execution_count": 22,
   "id": "a5ade642",
   "metadata": {},
   "outputs": [
    {
     "data": {
      "text/html": [
       "<style>#sk-container-id-1 {\n",
       "  /* Definition of color scheme common for light and dark mode */\n",
       "  --sklearn-color-text: black;\n",
       "  --sklearn-color-line: gray;\n",
       "  /* Definition of color scheme for unfitted estimators */\n",
       "  --sklearn-color-unfitted-level-0: #fff5e6;\n",
       "  --sklearn-color-unfitted-level-1: #f6e4d2;\n",
       "  --sklearn-color-unfitted-level-2: #ffe0b3;\n",
       "  --sklearn-color-unfitted-level-3: chocolate;\n",
       "  /* Definition of color scheme for fitted estimators */\n",
       "  --sklearn-color-fitted-level-0: #f0f8ff;\n",
       "  --sklearn-color-fitted-level-1: #d4ebff;\n",
       "  --sklearn-color-fitted-level-2: #b3dbfd;\n",
       "  --sklearn-color-fitted-level-3: cornflowerblue;\n",
       "\n",
       "  /* Specific color for light theme */\n",
       "  --sklearn-color-text-on-default-background: var(--sg-text-color, var(--theme-code-foreground, var(--jp-content-font-color1, black)));\n",
       "  --sklearn-color-background: var(--sg-background-color, var(--theme-background, var(--jp-layout-color0, white)));\n",
       "  --sklearn-color-border-box: var(--sg-text-color, var(--theme-code-foreground, var(--jp-content-font-color1, black)));\n",
       "  --sklearn-color-icon: #696969;\n",
       "\n",
       "  @media (prefers-color-scheme: dark) {\n",
       "    /* Redefinition of color scheme for dark theme */\n",
       "    --sklearn-color-text-on-default-background: var(--sg-text-color, var(--theme-code-foreground, var(--jp-content-font-color1, white)));\n",
       "    --sklearn-color-background: var(--sg-background-color, var(--theme-background, var(--jp-layout-color0, #111)));\n",
       "    --sklearn-color-border-box: var(--sg-text-color, var(--theme-code-foreground, var(--jp-content-font-color1, white)));\n",
       "    --sklearn-color-icon: #878787;\n",
       "  }\n",
       "}\n",
       "\n",
       "#sk-container-id-1 {\n",
       "  color: var(--sklearn-color-text);\n",
       "}\n",
       "\n",
       "#sk-container-id-1 pre {\n",
       "  padding: 0;\n",
       "}\n",
       "\n",
       "#sk-container-id-1 input.sk-hidden--visually {\n",
       "  border: 0;\n",
       "  clip: rect(1px 1px 1px 1px);\n",
       "  clip: rect(1px, 1px, 1px, 1px);\n",
       "  height: 1px;\n",
       "  margin: -1px;\n",
       "  overflow: hidden;\n",
       "  padding: 0;\n",
       "  position: absolute;\n",
       "  width: 1px;\n",
       "}\n",
       "\n",
       "#sk-container-id-1 div.sk-dashed-wrapped {\n",
       "  border: 1px dashed var(--sklearn-color-line);\n",
       "  margin: 0 0.4em 0.5em 0.4em;\n",
       "  box-sizing: border-box;\n",
       "  padding-bottom: 0.4em;\n",
       "  background-color: var(--sklearn-color-background);\n",
       "}\n",
       "\n",
       "#sk-container-id-1 div.sk-container {\n",
       "  /* jupyter's `normalize.less` sets `[hidden] { display: none; }`\n",
       "     but bootstrap.min.css set `[hidden] { display: none !important; }`\n",
       "     so we also need the `!important` here to be able to override the\n",
       "     default hidden behavior on the sphinx rendered scikit-learn.org.\n",
       "     See: https://github.com/scikit-learn/scikit-learn/issues/21755 */\n",
       "  display: inline-block !important;\n",
       "  position: relative;\n",
       "}\n",
       "\n",
       "#sk-container-id-1 div.sk-text-repr-fallback {\n",
       "  display: none;\n",
       "}\n",
       "\n",
       "div.sk-parallel-item,\n",
       "div.sk-serial,\n",
       "div.sk-item {\n",
       "  /* draw centered vertical line to link estimators */\n",
       "  background-image: linear-gradient(var(--sklearn-color-text-on-default-background), var(--sklearn-color-text-on-default-background));\n",
       "  background-size: 2px 100%;\n",
       "  background-repeat: no-repeat;\n",
       "  background-position: center center;\n",
       "}\n",
       "\n",
       "/* Parallel-specific style estimator block */\n",
       "\n",
       "#sk-container-id-1 div.sk-parallel-item::after {\n",
       "  content: \"\";\n",
       "  width: 100%;\n",
       "  border-bottom: 2px solid var(--sklearn-color-text-on-default-background);\n",
       "  flex-grow: 1;\n",
       "}\n",
       "\n",
       "#sk-container-id-1 div.sk-parallel {\n",
       "  display: flex;\n",
       "  align-items: stretch;\n",
       "  justify-content: center;\n",
       "  background-color: var(--sklearn-color-background);\n",
       "  position: relative;\n",
       "}\n",
       "\n",
       "#sk-container-id-1 div.sk-parallel-item {\n",
       "  display: flex;\n",
       "  flex-direction: column;\n",
       "}\n",
       "\n",
       "#sk-container-id-1 div.sk-parallel-item:first-child::after {\n",
       "  align-self: flex-end;\n",
       "  width: 50%;\n",
       "}\n",
       "\n",
       "#sk-container-id-1 div.sk-parallel-item:last-child::after {\n",
       "  align-self: flex-start;\n",
       "  width: 50%;\n",
       "}\n",
       "\n",
       "#sk-container-id-1 div.sk-parallel-item:only-child::after {\n",
       "  width: 0;\n",
       "}\n",
       "\n",
       "/* Serial-specific style estimator block */\n",
       "\n",
       "#sk-container-id-1 div.sk-serial {\n",
       "  display: flex;\n",
       "  flex-direction: column;\n",
       "  align-items: center;\n",
       "  background-color: var(--sklearn-color-background);\n",
       "  padding-right: 1em;\n",
       "  padding-left: 1em;\n",
       "}\n",
       "\n",
       "\n",
       "/* Toggleable style: style used for estimator/Pipeline/ColumnTransformer box that is\n",
       "clickable and can be expanded/collapsed.\n",
       "- Pipeline and ColumnTransformer use this feature and define the default style\n",
       "- Estimators will overwrite some part of the style using the `sk-estimator` class\n",
       "*/\n",
       "\n",
       "/* Pipeline and ColumnTransformer style (default) */\n",
       "\n",
       "#sk-container-id-1 div.sk-toggleable {\n",
       "  /* Default theme specific background. It is overwritten whether we have a\n",
       "  specific estimator or a Pipeline/ColumnTransformer */\n",
       "  background-color: var(--sklearn-color-background);\n",
       "}\n",
       "\n",
       "/* Toggleable label */\n",
       "#sk-container-id-1 label.sk-toggleable__label {\n",
       "  cursor: pointer;\n",
       "  display: block;\n",
       "  width: 100%;\n",
       "  margin-bottom: 0;\n",
       "  padding: 0.5em;\n",
       "  box-sizing: border-box;\n",
       "  text-align: center;\n",
       "}\n",
       "\n",
       "#sk-container-id-1 label.sk-toggleable__label-arrow:before {\n",
       "  /* Arrow on the left of the label */\n",
       "  content: \"▸\";\n",
       "  float: left;\n",
       "  margin-right: 0.25em;\n",
       "  color: var(--sklearn-color-icon);\n",
       "}\n",
       "\n",
       "#sk-container-id-1 label.sk-toggleable__label-arrow:hover:before {\n",
       "  color: var(--sklearn-color-text);\n",
       "}\n",
       "\n",
       "/* Toggleable content - dropdown */\n",
       "\n",
       "#sk-container-id-1 div.sk-toggleable__content {\n",
       "  max-height: 0;\n",
       "  max-width: 0;\n",
       "  overflow: hidden;\n",
       "  text-align: left;\n",
       "  /* unfitted */\n",
       "  background-color: var(--sklearn-color-unfitted-level-0);\n",
       "}\n",
       "\n",
       "#sk-container-id-1 div.sk-toggleable__content.fitted {\n",
       "  /* fitted */\n",
       "  background-color: var(--sklearn-color-fitted-level-0);\n",
       "}\n",
       "\n",
       "#sk-container-id-1 div.sk-toggleable__content pre {\n",
       "  margin: 0.2em;\n",
       "  border-radius: 0.25em;\n",
       "  color: var(--sklearn-color-text);\n",
       "  /* unfitted */\n",
       "  background-color: var(--sklearn-color-unfitted-level-0);\n",
       "}\n",
       "\n",
       "#sk-container-id-1 div.sk-toggleable__content.fitted pre {\n",
       "  /* unfitted */\n",
       "  background-color: var(--sklearn-color-fitted-level-0);\n",
       "}\n",
       "\n",
       "#sk-container-id-1 input.sk-toggleable__control:checked~div.sk-toggleable__content {\n",
       "  /* Expand drop-down */\n",
       "  max-height: 200px;\n",
       "  max-width: 100%;\n",
       "  overflow: auto;\n",
       "}\n",
       "\n",
       "#sk-container-id-1 input.sk-toggleable__control:checked~label.sk-toggleable__label-arrow:before {\n",
       "  content: \"▾\";\n",
       "}\n",
       "\n",
       "/* Pipeline/ColumnTransformer-specific style */\n",
       "\n",
       "#sk-container-id-1 div.sk-label input.sk-toggleable__control:checked~label.sk-toggleable__label {\n",
       "  color: var(--sklearn-color-text);\n",
       "  background-color: var(--sklearn-color-unfitted-level-2);\n",
       "}\n",
       "\n",
       "#sk-container-id-1 div.sk-label.fitted input.sk-toggleable__control:checked~label.sk-toggleable__label {\n",
       "  background-color: var(--sklearn-color-fitted-level-2);\n",
       "}\n",
       "\n",
       "/* Estimator-specific style */\n",
       "\n",
       "/* Colorize estimator box */\n",
       "#sk-container-id-1 div.sk-estimator input.sk-toggleable__control:checked~label.sk-toggleable__label {\n",
       "  /* unfitted */\n",
       "  background-color: var(--sklearn-color-unfitted-level-2);\n",
       "}\n",
       "\n",
       "#sk-container-id-1 div.sk-estimator.fitted input.sk-toggleable__control:checked~label.sk-toggleable__label {\n",
       "  /* fitted */\n",
       "  background-color: var(--sklearn-color-fitted-level-2);\n",
       "}\n",
       "\n",
       "#sk-container-id-1 div.sk-label label.sk-toggleable__label,\n",
       "#sk-container-id-1 div.sk-label label {\n",
       "  /* The background is the default theme color */\n",
       "  color: var(--sklearn-color-text-on-default-background);\n",
       "}\n",
       "\n",
       "/* On hover, darken the color of the background */\n",
       "#sk-container-id-1 div.sk-label:hover label.sk-toggleable__label {\n",
       "  color: var(--sklearn-color-text);\n",
       "  background-color: var(--sklearn-color-unfitted-level-2);\n",
       "}\n",
       "\n",
       "/* Label box, darken color on hover, fitted */\n",
       "#sk-container-id-1 div.sk-label.fitted:hover label.sk-toggleable__label.fitted {\n",
       "  color: var(--sklearn-color-text);\n",
       "  background-color: var(--sklearn-color-fitted-level-2);\n",
       "}\n",
       "\n",
       "/* Estimator label */\n",
       "\n",
       "#sk-container-id-1 div.sk-label label {\n",
       "  font-family: monospace;\n",
       "  font-weight: bold;\n",
       "  display: inline-block;\n",
       "  line-height: 1.2em;\n",
       "}\n",
       "\n",
       "#sk-container-id-1 div.sk-label-container {\n",
       "  text-align: center;\n",
       "}\n",
       "\n",
       "/* Estimator-specific */\n",
       "#sk-container-id-1 div.sk-estimator {\n",
       "  font-family: monospace;\n",
       "  border: 1px dotted var(--sklearn-color-border-box);\n",
       "  border-radius: 0.25em;\n",
       "  box-sizing: border-box;\n",
       "  margin-bottom: 0.5em;\n",
       "  /* unfitted */\n",
       "  background-color: var(--sklearn-color-unfitted-level-0);\n",
       "}\n",
       "\n",
       "#sk-container-id-1 div.sk-estimator.fitted {\n",
       "  /* fitted */\n",
       "  background-color: var(--sklearn-color-fitted-level-0);\n",
       "}\n",
       "\n",
       "/* on hover */\n",
       "#sk-container-id-1 div.sk-estimator:hover {\n",
       "  /* unfitted */\n",
       "  background-color: var(--sklearn-color-unfitted-level-2);\n",
       "}\n",
       "\n",
       "#sk-container-id-1 div.sk-estimator.fitted:hover {\n",
       "  /* fitted */\n",
       "  background-color: var(--sklearn-color-fitted-level-2);\n",
       "}\n",
       "\n",
       "/* Specification for estimator info (e.g. \"i\" and \"?\") */\n",
       "\n",
       "/* Common style for \"i\" and \"?\" */\n",
       "\n",
       ".sk-estimator-doc-link,\n",
       "a:link.sk-estimator-doc-link,\n",
       "a:visited.sk-estimator-doc-link {\n",
       "  float: right;\n",
       "  font-size: smaller;\n",
       "  line-height: 1em;\n",
       "  font-family: monospace;\n",
       "  background-color: var(--sklearn-color-background);\n",
       "  border-radius: 1em;\n",
       "  height: 1em;\n",
       "  width: 1em;\n",
       "  text-decoration: none !important;\n",
       "  margin-left: 1ex;\n",
       "  /* unfitted */\n",
       "  border: var(--sklearn-color-unfitted-level-1) 1pt solid;\n",
       "  color: var(--sklearn-color-unfitted-level-1);\n",
       "}\n",
       "\n",
       ".sk-estimator-doc-link.fitted,\n",
       "a:link.sk-estimator-doc-link.fitted,\n",
       "a:visited.sk-estimator-doc-link.fitted {\n",
       "  /* fitted */\n",
       "  border: var(--sklearn-color-fitted-level-1) 1pt solid;\n",
       "  color: var(--sklearn-color-fitted-level-1);\n",
       "}\n",
       "\n",
       "/* On hover */\n",
       "div.sk-estimator:hover .sk-estimator-doc-link:hover,\n",
       ".sk-estimator-doc-link:hover,\n",
       "div.sk-label-container:hover .sk-estimator-doc-link:hover,\n",
       ".sk-estimator-doc-link:hover {\n",
       "  /* unfitted */\n",
       "  background-color: var(--sklearn-color-unfitted-level-3);\n",
       "  color: var(--sklearn-color-background);\n",
       "  text-decoration: none;\n",
       "}\n",
       "\n",
       "div.sk-estimator.fitted:hover .sk-estimator-doc-link.fitted:hover,\n",
       ".sk-estimator-doc-link.fitted:hover,\n",
       "div.sk-label-container:hover .sk-estimator-doc-link.fitted:hover,\n",
       ".sk-estimator-doc-link.fitted:hover {\n",
       "  /* fitted */\n",
       "  background-color: var(--sklearn-color-fitted-level-3);\n",
       "  color: var(--sklearn-color-background);\n",
       "  text-decoration: none;\n",
       "}\n",
       "\n",
       "/* Span, style for the box shown on hovering the info icon */\n",
       ".sk-estimator-doc-link span {\n",
       "  display: none;\n",
       "  z-index: 9999;\n",
       "  position: relative;\n",
       "  font-weight: normal;\n",
       "  right: .2ex;\n",
       "  padding: .5ex;\n",
       "  margin: .5ex;\n",
       "  width: min-content;\n",
       "  min-width: 20ex;\n",
       "  max-width: 50ex;\n",
       "  color: var(--sklearn-color-text);\n",
       "  box-shadow: 2pt 2pt 4pt #999;\n",
       "  /* unfitted */\n",
       "  background: var(--sklearn-color-unfitted-level-0);\n",
       "  border: .5pt solid var(--sklearn-color-unfitted-level-3);\n",
       "}\n",
       "\n",
       ".sk-estimator-doc-link.fitted span {\n",
       "  /* fitted */\n",
       "  background: var(--sklearn-color-fitted-level-0);\n",
       "  border: var(--sklearn-color-fitted-level-3);\n",
       "}\n",
       "\n",
       ".sk-estimator-doc-link:hover span {\n",
       "  display: block;\n",
       "}\n",
       "\n",
       "/* \"?\"-specific style due to the `<a>` HTML tag */\n",
       "\n",
       "#sk-container-id-1 a.estimator_doc_link {\n",
       "  float: right;\n",
       "  font-size: 1rem;\n",
       "  line-height: 1em;\n",
       "  font-family: monospace;\n",
       "  background-color: var(--sklearn-color-background);\n",
       "  border-radius: 1rem;\n",
       "  height: 1rem;\n",
       "  width: 1rem;\n",
       "  text-decoration: none;\n",
       "  /* unfitted */\n",
       "  color: var(--sklearn-color-unfitted-level-1);\n",
       "  border: var(--sklearn-color-unfitted-level-1) 1pt solid;\n",
       "}\n",
       "\n",
       "#sk-container-id-1 a.estimator_doc_link.fitted {\n",
       "  /* fitted */\n",
       "  border: var(--sklearn-color-fitted-level-1) 1pt solid;\n",
       "  color: var(--sklearn-color-fitted-level-1);\n",
       "}\n",
       "\n",
       "/* On hover */\n",
       "#sk-container-id-1 a.estimator_doc_link:hover {\n",
       "  /* unfitted */\n",
       "  background-color: var(--sklearn-color-unfitted-level-3);\n",
       "  color: var(--sklearn-color-background);\n",
       "  text-decoration: none;\n",
       "}\n",
       "\n",
       "#sk-container-id-1 a.estimator_doc_link.fitted:hover {\n",
       "  /* fitted */\n",
       "  background-color: var(--sklearn-color-fitted-level-3);\n",
       "}\n",
       "</style><div id=\"sk-container-id-1\" class=\"sk-top-container\"><div class=\"sk-text-repr-fallback\"><pre>LogisticRegression(solver=&#x27;liblinear&#x27;)</pre><b>In a Jupyter environment, please rerun this cell to show the HTML representation or trust the notebook. <br />On GitHub, the HTML representation is unable to render, please try loading this page with nbviewer.org.</b></div><div class=\"sk-container\" hidden><div class=\"sk-item\"><div class=\"sk-estimator fitted sk-toggleable\"><input class=\"sk-toggleable__control sk-hidden--visually\" id=\"sk-estimator-id-1\" type=\"checkbox\" checked><label for=\"sk-estimator-id-1\" class=\"sk-toggleable__label fitted sk-toggleable__label-arrow fitted\">&nbsp;&nbsp;LogisticRegression<a class=\"sk-estimator-doc-link fitted\" rel=\"noreferrer\" target=\"_blank\" href=\"https://scikit-learn.org/1.5/modules/generated/sklearn.linear_model.LogisticRegression.html\">?<span>Documentation for LogisticRegression</span></a><span class=\"sk-estimator-doc-link fitted\">i<span>Fitted</span></span></label><div class=\"sk-toggleable__content fitted\"><pre>LogisticRegression(solver=&#x27;liblinear&#x27;)</pre></div> </div></div></div></div>"
      ],
      "text/plain": [
       "LogisticRegression(solver='liblinear')"
      ]
     },
     "execution_count": 22,
     "metadata": {},
     "output_type": "execute_result"
    }
   ],
   "source": [
    "sio.load(\"/tmp/dumps/lr.skops\")"
   ]
  },
  {
   "cell_type": "code",
   "execution_count": 23,
   "id": "419bf31d-d1d0-45f4-be22-8ca2b32bcec0",
   "metadata": {},
   "outputs": [
    {
     "name": "stdout",
     "output_type": "stream",
     "text": [
      "root: sklearn.linear_model._logistic.LogisticRegression\n",
      "└── attrs: builtins.dict\n",
      "    ├── penalty: json-type(\"l2\")\n",
      "    ├── dual: json-type(false)\n",
      "    ├── tol: json-type(0.0001)\n",
      "    ├── C: json-type(1.0)\n",
      "    ├── fit_intercept: json-type(true)\n",
      "    ├── intercept_scaling: json-type(1)\n",
      "    ├── class_weight: json-type(null)\n",
      "    ├── random_state: json-type(null)\n",
      "    ├── solver: json-type(\"liblinear\")\n",
      "    ├── max_iter: json-type(100)\n",
      "    ├── multi_class: json-type(\"deprecated\")\n",
      "    ├── verbose: json-type(0)\n",
      "    ├── warm_start: json-type(false)\n",
      "    ├── n_jobs: json-type(null)\n",
      "    ├── l1_ratio: json-type(null)\n",
      "    ├── n_features_in_: json-type(4)\n",
      "    ├── classes_: numpy.ndarray\n",
      "    ├── coef_: numpy.ndarray\n",
      "    ├── intercept_: numpy.ndarray\n",
      "    ├── n_iter_: numpy.ndarray\n",
      "    └── _sklearn_version: json-type(\"1.5.2\")\n"
     ]
    }
   ],
   "source": [
    "sio.visualize(\"/tmp/dumps/lr.skops\", show=\"all\")"
   ]
  },
  {
   "cell_type": "code",
   "execution_count": 24,
   "id": "e2bf07c9-ab7f-4909-a1f4-ceefefb9aa95",
   "metadata": {},
   "outputs": [],
   "source": [
    "from sklearn.preprocessing import FunctionTransformer\n",
    "\n",
    "def f(x):\n",
    "    return x + 1\n",
    "\n",
    "obj = FunctionTransformer(f)\n",
    "dumped = sio.dumps(obj)"
   ]
  },
  {
   "cell_type": "code",
   "execution_count": 25,
   "id": "dcb9ce4d-1b9c-41ce-b342-1d24237afa99",
   "metadata": {},
   "outputs": [
    {
     "ename": "UntrustedTypesFoundException",
     "evalue": "Untrusted types found in the file: ['__main__.f'].",
     "output_type": "error",
     "traceback": [
      "\u001b[0;31m---------------------------------------------------------------------------\u001b[0m",
      "\u001b[0;31mUntrustedTypesFoundException\u001b[0m              Traceback (most recent call last)",
      "Cell \u001b[0;32mIn[25], line 1\u001b[0m\n\u001b[0;32m----> 1\u001b[0m \u001b[43msio\u001b[49m\u001b[38;5;241;43m.\u001b[39;49m\u001b[43mloads\u001b[49m\u001b[43m(\u001b[49m\u001b[43mdumped\u001b[49m\u001b[43m)\u001b[49m\n",
      "File \u001b[0;32m~/micromamba/envs/talks/lib/python3.12/site-packages/skops/io/_persist.py:191\u001b[0m, in \u001b[0;36mloads\u001b[0;34m(data, trusted)\u001b[0m\n\u001b[1;32m    189\u001b[0m     load_context \u001b[38;5;241m=\u001b[39m LoadContext(src\u001b[38;5;241m=\u001b[39mzip_file, protocol\u001b[38;5;241m=\u001b[39mschema[\u001b[38;5;124m\"\u001b[39m\u001b[38;5;124mprotocol\u001b[39m\u001b[38;5;124m\"\u001b[39m])\n\u001b[1;32m    190\u001b[0m     tree \u001b[38;5;241m=\u001b[39m get_tree(schema, load_context, trusted\u001b[38;5;241m=\u001b[39mtrusted)\n\u001b[0;32m--> 191\u001b[0m     \u001b[43maudit_tree\u001b[49m\u001b[43m(\u001b[49m\u001b[43mtree\u001b[49m\u001b[43m)\u001b[49m\n\u001b[1;32m    192\u001b[0m     instance \u001b[38;5;241m=\u001b[39m tree\u001b[38;5;241m.\u001b[39mconstruct()\n\u001b[1;32m    194\u001b[0m \u001b[38;5;28;01mreturn\u001b[39;00m instance\n",
      "File \u001b[0;32m~/micromamba/envs/talks/lib/python3.12/site-packages/skops/io/_audit.py:59\u001b[0m, in \u001b[0;36maudit_tree\u001b[0;34m(tree)\u001b[0m\n\u001b[1;32m     57\u001b[0m unsafe \u001b[38;5;241m=\u001b[39m tree\u001b[38;5;241m.\u001b[39mget_unsafe_set()\n\u001b[1;32m     58\u001b[0m \u001b[38;5;28;01mif\u001b[39;00m unsafe:\n\u001b[0;32m---> 59\u001b[0m     \u001b[38;5;28;01mraise\u001b[39;00m UntrustedTypesFoundException(unsafe)\n",
      "\u001b[0;31mUntrustedTypesFoundException\u001b[0m: Untrusted types found in the file: ['__main__.f']."
     ]
    }
   ],
   "source": [
    "sio.loads(dumped)"
   ]
  },
  {
   "cell_type": "code",
   "execution_count": 26,
   "id": "75e7fbdb-e01d-4797-9cd7-c6f4bcb92f05",
   "metadata": {},
   "outputs": [
    {
     "data": {
      "text/plain": [
       "['__main__.f']"
      ]
     },
     "execution_count": 26,
     "metadata": {},
     "output_type": "execute_result"
    }
   ],
   "source": [
    "sio.get_untrusted_types(data=dumped)"
   ]
  },
  {
   "cell_type": "code",
   "execution_count": 28,
   "id": "8d1a77af-39ad-4a24-865f-a45ac39a50ca",
   "metadata": {},
   "outputs": [
    {
     "name": "stdout",
     "output_type": "stream",
     "text": [
      "root: sklearn.preprocessing._function_transformer.FunctionTransformer\n",
      "└── attrs: builtins.dict\n",
      "    ├── func: __main__.f [UNSAFE]\n",
      "    ├── inverse_func: json-type(null)\n",
      "    ├── validate: json-type(false)\n",
      "    ├── accept_sparse: json-type(false)\n",
      "    ├── check_inverse: json-type(true)\n",
      "    ├── feature_names_out: json-type(null)\n",
      "    ├── kw_args: json-type(null)\n",
      "    ├── inv_kw_args: json-type(null)\n",
      "    └── _sklearn_version: json-type(\"1.5.2\")\n"
     ]
    }
   ],
   "source": [
    "sio.visualize(dumped, show=\"all\")"
   ]
  },
  {
   "cell_type": "code",
   "execution_count": 29,
   "id": "20eef1de-a999-4b6e-b74a-7ed2d7a7f596",
   "metadata": {},
   "outputs": [
    {
     "data": {
      "text/html": [
       "<style>#sk-container-id-2 {\n",
       "  /* Definition of color scheme common for light and dark mode */\n",
       "  --sklearn-color-text: black;\n",
       "  --sklearn-color-line: gray;\n",
       "  /* Definition of color scheme for unfitted estimators */\n",
       "  --sklearn-color-unfitted-level-0: #fff5e6;\n",
       "  --sklearn-color-unfitted-level-1: #f6e4d2;\n",
       "  --sklearn-color-unfitted-level-2: #ffe0b3;\n",
       "  --sklearn-color-unfitted-level-3: chocolate;\n",
       "  /* Definition of color scheme for fitted estimators */\n",
       "  --sklearn-color-fitted-level-0: #f0f8ff;\n",
       "  --sklearn-color-fitted-level-1: #d4ebff;\n",
       "  --sklearn-color-fitted-level-2: #b3dbfd;\n",
       "  --sklearn-color-fitted-level-3: cornflowerblue;\n",
       "\n",
       "  /* Specific color for light theme */\n",
       "  --sklearn-color-text-on-default-background: var(--sg-text-color, var(--theme-code-foreground, var(--jp-content-font-color1, black)));\n",
       "  --sklearn-color-background: var(--sg-background-color, var(--theme-background, var(--jp-layout-color0, white)));\n",
       "  --sklearn-color-border-box: var(--sg-text-color, var(--theme-code-foreground, var(--jp-content-font-color1, black)));\n",
       "  --sklearn-color-icon: #696969;\n",
       "\n",
       "  @media (prefers-color-scheme: dark) {\n",
       "    /* Redefinition of color scheme for dark theme */\n",
       "    --sklearn-color-text-on-default-background: var(--sg-text-color, var(--theme-code-foreground, var(--jp-content-font-color1, white)));\n",
       "    --sklearn-color-background: var(--sg-background-color, var(--theme-background, var(--jp-layout-color0, #111)));\n",
       "    --sklearn-color-border-box: var(--sg-text-color, var(--theme-code-foreground, var(--jp-content-font-color1, white)));\n",
       "    --sklearn-color-icon: #878787;\n",
       "  }\n",
       "}\n",
       "\n",
       "#sk-container-id-2 {\n",
       "  color: var(--sklearn-color-text);\n",
       "}\n",
       "\n",
       "#sk-container-id-2 pre {\n",
       "  padding: 0;\n",
       "}\n",
       "\n",
       "#sk-container-id-2 input.sk-hidden--visually {\n",
       "  border: 0;\n",
       "  clip: rect(1px 1px 1px 1px);\n",
       "  clip: rect(1px, 1px, 1px, 1px);\n",
       "  height: 1px;\n",
       "  margin: -1px;\n",
       "  overflow: hidden;\n",
       "  padding: 0;\n",
       "  position: absolute;\n",
       "  width: 1px;\n",
       "}\n",
       "\n",
       "#sk-container-id-2 div.sk-dashed-wrapped {\n",
       "  border: 1px dashed var(--sklearn-color-line);\n",
       "  margin: 0 0.4em 0.5em 0.4em;\n",
       "  box-sizing: border-box;\n",
       "  padding-bottom: 0.4em;\n",
       "  background-color: var(--sklearn-color-background);\n",
       "}\n",
       "\n",
       "#sk-container-id-2 div.sk-container {\n",
       "  /* jupyter's `normalize.less` sets `[hidden] { display: none; }`\n",
       "     but bootstrap.min.css set `[hidden] { display: none !important; }`\n",
       "     so we also need the `!important` here to be able to override the\n",
       "     default hidden behavior on the sphinx rendered scikit-learn.org.\n",
       "     See: https://github.com/scikit-learn/scikit-learn/issues/21755 */\n",
       "  display: inline-block !important;\n",
       "  position: relative;\n",
       "}\n",
       "\n",
       "#sk-container-id-2 div.sk-text-repr-fallback {\n",
       "  display: none;\n",
       "}\n",
       "\n",
       "div.sk-parallel-item,\n",
       "div.sk-serial,\n",
       "div.sk-item {\n",
       "  /* draw centered vertical line to link estimators */\n",
       "  background-image: linear-gradient(var(--sklearn-color-text-on-default-background), var(--sklearn-color-text-on-default-background));\n",
       "  background-size: 2px 100%;\n",
       "  background-repeat: no-repeat;\n",
       "  background-position: center center;\n",
       "}\n",
       "\n",
       "/* Parallel-specific style estimator block */\n",
       "\n",
       "#sk-container-id-2 div.sk-parallel-item::after {\n",
       "  content: \"\";\n",
       "  width: 100%;\n",
       "  border-bottom: 2px solid var(--sklearn-color-text-on-default-background);\n",
       "  flex-grow: 1;\n",
       "}\n",
       "\n",
       "#sk-container-id-2 div.sk-parallel {\n",
       "  display: flex;\n",
       "  align-items: stretch;\n",
       "  justify-content: center;\n",
       "  background-color: var(--sklearn-color-background);\n",
       "  position: relative;\n",
       "}\n",
       "\n",
       "#sk-container-id-2 div.sk-parallel-item {\n",
       "  display: flex;\n",
       "  flex-direction: column;\n",
       "}\n",
       "\n",
       "#sk-container-id-2 div.sk-parallel-item:first-child::after {\n",
       "  align-self: flex-end;\n",
       "  width: 50%;\n",
       "}\n",
       "\n",
       "#sk-container-id-2 div.sk-parallel-item:last-child::after {\n",
       "  align-self: flex-start;\n",
       "  width: 50%;\n",
       "}\n",
       "\n",
       "#sk-container-id-2 div.sk-parallel-item:only-child::after {\n",
       "  width: 0;\n",
       "}\n",
       "\n",
       "/* Serial-specific style estimator block */\n",
       "\n",
       "#sk-container-id-2 div.sk-serial {\n",
       "  display: flex;\n",
       "  flex-direction: column;\n",
       "  align-items: center;\n",
       "  background-color: var(--sklearn-color-background);\n",
       "  padding-right: 1em;\n",
       "  padding-left: 1em;\n",
       "}\n",
       "\n",
       "\n",
       "/* Toggleable style: style used for estimator/Pipeline/ColumnTransformer box that is\n",
       "clickable and can be expanded/collapsed.\n",
       "- Pipeline and ColumnTransformer use this feature and define the default style\n",
       "- Estimators will overwrite some part of the style using the `sk-estimator` class\n",
       "*/\n",
       "\n",
       "/* Pipeline and ColumnTransformer style (default) */\n",
       "\n",
       "#sk-container-id-2 div.sk-toggleable {\n",
       "  /* Default theme specific background. It is overwritten whether we have a\n",
       "  specific estimator or a Pipeline/ColumnTransformer */\n",
       "  background-color: var(--sklearn-color-background);\n",
       "}\n",
       "\n",
       "/* Toggleable label */\n",
       "#sk-container-id-2 label.sk-toggleable__label {\n",
       "  cursor: pointer;\n",
       "  display: block;\n",
       "  width: 100%;\n",
       "  margin-bottom: 0;\n",
       "  padding: 0.5em;\n",
       "  box-sizing: border-box;\n",
       "  text-align: center;\n",
       "}\n",
       "\n",
       "#sk-container-id-2 label.sk-toggleable__label-arrow:before {\n",
       "  /* Arrow on the left of the label */\n",
       "  content: \"▸\";\n",
       "  float: left;\n",
       "  margin-right: 0.25em;\n",
       "  color: var(--sklearn-color-icon);\n",
       "}\n",
       "\n",
       "#sk-container-id-2 label.sk-toggleable__label-arrow:hover:before {\n",
       "  color: var(--sklearn-color-text);\n",
       "}\n",
       "\n",
       "/* Toggleable content - dropdown */\n",
       "\n",
       "#sk-container-id-2 div.sk-toggleable__content {\n",
       "  max-height: 0;\n",
       "  max-width: 0;\n",
       "  overflow: hidden;\n",
       "  text-align: left;\n",
       "  /* unfitted */\n",
       "  background-color: var(--sklearn-color-unfitted-level-0);\n",
       "}\n",
       "\n",
       "#sk-container-id-2 div.sk-toggleable__content.fitted {\n",
       "  /* fitted */\n",
       "  background-color: var(--sklearn-color-fitted-level-0);\n",
       "}\n",
       "\n",
       "#sk-container-id-2 div.sk-toggleable__content pre {\n",
       "  margin: 0.2em;\n",
       "  border-radius: 0.25em;\n",
       "  color: var(--sklearn-color-text);\n",
       "  /* unfitted */\n",
       "  background-color: var(--sklearn-color-unfitted-level-0);\n",
       "}\n",
       "\n",
       "#sk-container-id-2 div.sk-toggleable__content.fitted pre {\n",
       "  /* unfitted */\n",
       "  background-color: var(--sklearn-color-fitted-level-0);\n",
       "}\n",
       "\n",
       "#sk-container-id-2 input.sk-toggleable__control:checked~div.sk-toggleable__content {\n",
       "  /* Expand drop-down */\n",
       "  max-height: 200px;\n",
       "  max-width: 100%;\n",
       "  overflow: auto;\n",
       "}\n",
       "\n",
       "#sk-container-id-2 input.sk-toggleable__control:checked~label.sk-toggleable__label-arrow:before {\n",
       "  content: \"▾\";\n",
       "}\n",
       "\n",
       "/* Pipeline/ColumnTransformer-specific style */\n",
       "\n",
       "#sk-container-id-2 div.sk-label input.sk-toggleable__control:checked~label.sk-toggleable__label {\n",
       "  color: var(--sklearn-color-text);\n",
       "  background-color: var(--sklearn-color-unfitted-level-2);\n",
       "}\n",
       "\n",
       "#sk-container-id-2 div.sk-label.fitted input.sk-toggleable__control:checked~label.sk-toggleable__label {\n",
       "  background-color: var(--sklearn-color-fitted-level-2);\n",
       "}\n",
       "\n",
       "/* Estimator-specific style */\n",
       "\n",
       "/* Colorize estimator box */\n",
       "#sk-container-id-2 div.sk-estimator input.sk-toggleable__control:checked~label.sk-toggleable__label {\n",
       "  /* unfitted */\n",
       "  background-color: var(--sklearn-color-unfitted-level-2);\n",
       "}\n",
       "\n",
       "#sk-container-id-2 div.sk-estimator.fitted input.sk-toggleable__control:checked~label.sk-toggleable__label {\n",
       "  /* fitted */\n",
       "  background-color: var(--sklearn-color-fitted-level-2);\n",
       "}\n",
       "\n",
       "#sk-container-id-2 div.sk-label label.sk-toggleable__label,\n",
       "#sk-container-id-2 div.sk-label label {\n",
       "  /* The background is the default theme color */\n",
       "  color: var(--sklearn-color-text-on-default-background);\n",
       "}\n",
       "\n",
       "/* On hover, darken the color of the background */\n",
       "#sk-container-id-2 div.sk-label:hover label.sk-toggleable__label {\n",
       "  color: var(--sklearn-color-text);\n",
       "  background-color: var(--sklearn-color-unfitted-level-2);\n",
       "}\n",
       "\n",
       "/* Label box, darken color on hover, fitted */\n",
       "#sk-container-id-2 div.sk-label.fitted:hover label.sk-toggleable__label.fitted {\n",
       "  color: var(--sklearn-color-text);\n",
       "  background-color: var(--sklearn-color-fitted-level-2);\n",
       "}\n",
       "\n",
       "/* Estimator label */\n",
       "\n",
       "#sk-container-id-2 div.sk-label label {\n",
       "  font-family: monospace;\n",
       "  font-weight: bold;\n",
       "  display: inline-block;\n",
       "  line-height: 1.2em;\n",
       "}\n",
       "\n",
       "#sk-container-id-2 div.sk-label-container {\n",
       "  text-align: center;\n",
       "}\n",
       "\n",
       "/* Estimator-specific */\n",
       "#sk-container-id-2 div.sk-estimator {\n",
       "  font-family: monospace;\n",
       "  border: 1px dotted var(--sklearn-color-border-box);\n",
       "  border-radius: 0.25em;\n",
       "  box-sizing: border-box;\n",
       "  margin-bottom: 0.5em;\n",
       "  /* unfitted */\n",
       "  background-color: var(--sklearn-color-unfitted-level-0);\n",
       "}\n",
       "\n",
       "#sk-container-id-2 div.sk-estimator.fitted {\n",
       "  /* fitted */\n",
       "  background-color: var(--sklearn-color-fitted-level-0);\n",
       "}\n",
       "\n",
       "/* on hover */\n",
       "#sk-container-id-2 div.sk-estimator:hover {\n",
       "  /* unfitted */\n",
       "  background-color: var(--sklearn-color-unfitted-level-2);\n",
       "}\n",
       "\n",
       "#sk-container-id-2 div.sk-estimator.fitted:hover {\n",
       "  /* fitted */\n",
       "  background-color: var(--sklearn-color-fitted-level-2);\n",
       "}\n",
       "\n",
       "/* Specification for estimator info (e.g. \"i\" and \"?\") */\n",
       "\n",
       "/* Common style for \"i\" and \"?\" */\n",
       "\n",
       ".sk-estimator-doc-link,\n",
       "a:link.sk-estimator-doc-link,\n",
       "a:visited.sk-estimator-doc-link {\n",
       "  float: right;\n",
       "  font-size: smaller;\n",
       "  line-height: 1em;\n",
       "  font-family: monospace;\n",
       "  background-color: var(--sklearn-color-background);\n",
       "  border-radius: 1em;\n",
       "  height: 1em;\n",
       "  width: 1em;\n",
       "  text-decoration: none !important;\n",
       "  margin-left: 1ex;\n",
       "  /* unfitted */\n",
       "  border: var(--sklearn-color-unfitted-level-1) 1pt solid;\n",
       "  color: var(--sklearn-color-unfitted-level-1);\n",
       "}\n",
       "\n",
       ".sk-estimator-doc-link.fitted,\n",
       "a:link.sk-estimator-doc-link.fitted,\n",
       "a:visited.sk-estimator-doc-link.fitted {\n",
       "  /* fitted */\n",
       "  border: var(--sklearn-color-fitted-level-1) 1pt solid;\n",
       "  color: var(--sklearn-color-fitted-level-1);\n",
       "}\n",
       "\n",
       "/* On hover */\n",
       "div.sk-estimator:hover .sk-estimator-doc-link:hover,\n",
       ".sk-estimator-doc-link:hover,\n",
       "div.sk-label-container:hover .sk-estimator-doc-link:hover,\n",
       ".sk-estimator-doc-link:hover {\n",
       "  /* unfitted */\n",
       "  background-color: var(--sklearn-color-unfitted-level-3);\n",
       "  color: var(--sklearn-color-background);\n",
       "  text-decoration: none;\n",
       "}\n",
       "\n",
       "div.sk-estimator.fitted:hover .sk-estimator-doc-link.fitted:hover,\n",
       ".sk-estimator-doc-link.fitted:hover,\n",
       "div.sk-label-container:hover .sk-estimator-doc-link.fitted:hover,\n",
       ".sk-estimator-doc-link.fitted:hover {\n",
       "  /* fitted */\n",
       "  background-color: var(--sklearn-color-fitted-level-3);\n",
       "  color: var(--sklearn-color-background);\n",
       "  text-decoration: none;\n",
       "}\n",
       "\n",
       "/* Span, style for the box shown on hovering the info icon */\n",
       ".sk-estimator-doc-link span {\n",
       "  display: none;\n",
       "  z-index: 9999;\n",
       "  position: relative;\n",
       "  font-weight: normal;\n",
       "  right: .2ex;\n",
       "  padding: .5ex;\n",
       "  margin: .5ex;\n",
       "  width: min-content;\n",
       "  min-width: 20ex;\n",
       "  max-width: 50ex;\n",
       "  color: var(--sklearn-color-text);\n",
       "  box-shadow: 2pt 2pt 4pt #999;\n",
       "  /* unfitted */\n",
       "  background: var(--sklearn-color-unfitted-level-0);\n",
       "  border: .5pt solid var(--sklearn-color-unfitted-level-3);\n",
       "}\n",
       "\n",
       ".sk-estimator-doc-link.fitted span {\n",
       "  /* fitted */\n",
       "  background: var(--sklearn-color-fitted-level-0);\n",
       "  border: var(--sklearn-color-fitted-level-3);\n",
       "}\n",
       "\n",
       ".sk-estimator-doc-link:hover span {\n",
       "  display: block;\n",
       "}\n",
       "\n",
       "/* \"?\"-specific style due to the `<a>` HTML tag */\n",
       "\n",
       "#sk-container-id-2 a.estimator_doc_link {\n",
       "  float: right;\n",
       "  font-size: 1rem;\n",
       "  line-height: 1em;\n",
       "  font-family: monospace;\n",
       "  background-color: var(--sklearn-color-background);\n",
       "  border-radius: 1rem;\n",
       "  height: 1rem;\n",
       "  width: 1rem;\n",
       "  text-decoration: none;\n",
       "  /* unfitted */\n",
       "  color: var(--sklearn-color-unfitted-level-1);\n",
       "  border: var(--sklearn-color-unfitted-level-1) 1pt solid;\n",
       "}\n",
       "\n",
       "#sk-container-id-2 a.estimator_doc_link.fitted {\n",
       "  /* fitted */\n",
       "  border: var(--sklearn-color-fitted-level-1) 1pt solid;\n",
       "  color: var(--sklearn-color-fitted-level-1);\n",
       "}\n",
       "\n",
       "/* On hover */\n",
       "#sk-container-id-2 a.estimator_doc_link:hover {\n",
       "  /* unfitted */\n",
       "  background-color: var(--sklearn-color-unfitted-level-3);\n",
       "  color: var(--sklearn-color-background);\n",
       "  text-decoration: none;\n",
       "}\n",
       "\n",
       "#sk-container-id-2 a.estimator_doc_link.fitted:hover {\n",
       "  /* fitted */\n",
       "  background-color: var(--sklearn-color-fitted-level-3);\n",
       "}\n",
       "</style><div id=\"sk-container-id-2\" class=\"sk-top-container\"><div class=\"sk-text-repr-fallback\"><pre>FunctionTransformer(func=&lt;function f at 0x7bffed02fd80&gt;)</pre><b>In a Jupyter environment, please rerun this cell to show the HTML representation or trust the notebook. <br />On GitHub, the HTML representation is unable to render, please try loading this page with nbviewer.org.</b></div><div class=\"sk-container\" hidden><div class=\"sk-item\"><div class=\"sk-estimator fitted sk-toggleable\"><input class=\"sk-toggleable__control sk-hidden--visually\" id=\"sk-estimator-id-2\" type=\"checkbox\" checked><label for=\"sk-estimator-id-2\" class=\"sk-toggleable__label fitted sk-toggleable__label-arrow fitted\">&nbsp;&nbsp;FunctionTransformer<a class=\"sk-estimator-doc-link fitted\" rel=\"noreferrer\" target=\"_blank\" href=\"https://scikit-learn.org/1.5/modules/generated/sklearn.preprocessing.FunctionTransformer.html\">?<span>Documentation for FunctionTransformer</span></a><span class=\"sk-estimator-doc-link fitted\">i<span>Fitted</span></span></label><div class=\"sk-toggleable__content fitted\"><pre>FunctionTransformer(func=&lt;function f at 0x7bffed02fd80&gt;)</pre></div> </div></div></div></div>"
      ],
      "text/plain": [
       "FunctionTransformer(func=<function f at 0x7bffed02fd80>)"
      ]
     },
     "execution_count": 29,
     "metadata": {},
     "output_type": "execute_result"
    }
   ],
   "source": [
    "sio.loads(dumped, trusted=\"__main__.f\")"
   ]
  },
  {
   "cell_type": "markdown",
   "id": "23c58f29",
   "metadata": {},
   "source": [
    "# `skops` format\n",
    "\n",
    "```\n",
    "zip file:\n",
    "    schema.json\n",
    "    139801436035376.npy\n",
    "    139803280731088.npy\n",
    "    139803280731952.npy\n",
    "    139803280801840.npy\n",
    "```"
   ]
  },
  {
   "cell_type": "markdown",
   "id": "8b96dd31",
   "metadata": {},
   "source": [
    "## Serializers and Loaders\n",
    "\n",
    "Default serializer/loader:\n",
    "\n",
    "- `__new__` to construct.\n",
    "- `__getstate__` and `__setstate__` to get and set attributes.\n",
    "\n",
    "Special treatment of\n",
    "- `dict`, `set`, `list`, `tuple`, `type`, `slice`\n",
    "- `partial`, methods, and functions\n",
    "- `numpy` and `scipy` arrays, `ufunc`s, and RNGs\n",
    "- scikit-learn's C extension types, some using `__reduce__`\n",
    "    - hard coded list of allowed objects\n",
    "    - some C extension types from non scikit-learn libs\n",
    "        - supported but not trusted by default\n",
    "- scikit-learn's custom objects"
   ]
  },
  {
   "cell_type": "markdown",
   "id": "5c12e798",
   "metadata": {},
   "source": [
    "## Loading Process\n",
    "\n",
    "- Load content into memory w/o constructing any objects\n",
    "- Check included types/functions against a trusted set\n",
    "- Construct objects if there's nothing we don't trust/know of\n",
    "    - this is where `__new__` and `__setstate__` are called"
   ]
  },
  {
   "cell_type": "markdown",
   "id": "87dfca92",
   "metadata": {},
   "source": [
    "# Web app: convert pickles to skops format\n",
    "- Uses Gradio: https://www.gradio.app/\n",
    "- Hosted on Hugging Face Spaces: https://huggingface.co/spaces/adrin/pickle-to-skops\n",
    "- Source code: https://huggingface.co/spaces/adrin/pickle-to-skops/tree/main"
   ]
  },
  {
   "cell_type": "markdown",
   "id": "87b63dbe",
   "metadata": {},
   "source": [
    "## Is it Safe?\n",
    "\n",
    "- No code is 100% safe!\n",
    "    - We're trying to make things safe\\[er\\]!\n",
    "-`zip` file vulnerabilities apply\n",
    "    - zip bomb\n",
    "- Raised exceptions\n",
    "- Very large objects"
   ]
  },
  {
   "cell_type": "markdown",
   "id": "71454ede",
   "metadata": {},
   "source": [
    "## Notes\n",
    "- Doesn't support any custom object with mandatory args to `__new__`"
   ]
  },
  {
   "cell_type": "markdown",
   "id": "b23135e6",
   "metadata": {},
   "source": [
    "## Roadmap\n",
    "- Trust more safe and commonly used types and functions by default\n",
    "- Speed improvements: memory mapping ndarrays, etc\n",
    "- Public protocol for third parties to implement to be \"`skops`able\"\n",
    "    - C extension types, currently via `__reduce__`, but only if we already know them"
   ]
  },
  {
   "cell_type": "markdown",
   "id": "390a4aac",
   "metadata": {},
   "source": [
    "## Help Us\n",
    "- Find vulnerabilities\n",
    "- Test it\n",
    "- Report issues on our issue tracker: https://github.com/skops-dev/skops/issues"
   ]
  }
 ],
 "metadata": {
  "kernelspec": {
   "display_name": "Python 3 (ipykernel)",
   "language": "python",
   "name": "python3"
  },
  "language_info": {
   "codemirror_mode": {
    "name": "ipython",
    "version": 3
   },
   "file_extension": ".py",
   "mimetype": "text/x-python",
   "name": "python",
   "nbconvert_exporter": "python",
   "pygments_lexer": "ipython3",
   "version": "3.12.3"
  }
 },
 "nbformat": 4,
 "nbformat_minor": 5
}
