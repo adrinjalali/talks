{
 "cells": [
  {
   "cell_type": "markdown",
   "id": "00da8b85",
   "metadata": {
    "slideshow": {
     "slide_type": "slide"
    }
   },
   "source": [
    "<h1><center>Measurement and Fairness</center></h1>\n",
    "<h2><center>Questions and Practices to Make Algorithmic Decision Making more Fair</center></h2>\n",
    "<h3><center>Adrin Jalali</center></h3>\n",
    "<h4><center>Hugging Face</center></h3>\n",
    "<h4><center>May 2022</center></h3>\n"
   ]
  },
  {
   "cell_type": "markdown",
   "id": "9449b042",
   "metadata": {
    "slideshow": {
     "slide_type": "subslide"
    }
   },
   "source": [
    "## Me\n",
    "- PhD in interpretable methods for cancer diagnostics\n",
    "- ML consulting\n",
    "- Worked in an algorithmic privacy and fairness team\n",
    "- Open source\n",
    "    - scikit-learn\n",
    "    - fairlearn\n",
    "- Now at HuggingFace"
   ]
  },
  {
   "cell_type": "markdown",
   "id": "4a483164",
   "metadata": {
    "slideshow": {
     "slide_type": "subslide"
    }
   },
   "source": [
    "## Interactive discussions\n",
    "- Form groups of 3-5 people\n",
    "- Choose an AI or a algorithmic decision making system\n",
    "  - Recommendation system\n",
    "  - Fraud detection\n",
    "  - Image/text search\n",
    "  - Insurance claims\n",
    "  - Facial recognition\n",
    "  - Voice recognition\n",
    "  - Language understanding\n",
    "  - ...\n",
    "- Be very specific, e.g.: a chatbot to direct patients to the right doctor at a clinic\n",
    "- Meeting rooms: https://shorturl.at/eqFR3"
   ]
  },
  {
   "cell_type": "markdown",
   "id": "14ed193e",
   "metadata": {
    "slideshow": {
     "slide_type": "slide"
    }
   },
   "source": [
    "### Sociotechnical Issue\n",
    "- Fairness related types of harm\n",
    "- To which groups of people do these harms apply?\n",
    "- Where do these harms come from?"
   ]
  },
  {
   "cell_type": "markdown",
   "id": "db62c0f0",
   "metadata": {
    "slideshow": {
     "slide_type": "slide"
    }
   },
   "source": [
    "## Types of Harm\n",
    "- Allocation\n",
    "- Quality of service\n",
    "- Stereotyping\n",
    "- Denigration\n",
    "- Over or under-representation"
   ]
  },
  {
   "cell_type": "markdown",
   "id": "88887170",
   "metadata": {
    "slideshow": {
     "slide_type": "subslide"
    }
   },
   "source": [
    "## Allocation\n",
    "<div>\n",
    "<img src=\"figs/allocation.png\" width=\"600\"/>\n",
    "</div>"
   ]
  },
  {
   "cell_type": "markdown",
   "id": "013249b3",
   "metadata": {
    "slideshow": {
     "slide_type": "subslide"
    }
   },
   "source": [
    "## Quality of Service\n",
    "<img src=\"figs/qos.png\" width=\"600\"/>\n",
    "\n",
    "http://gendershades.org/overview.html"
   ]
  },
  {
   "cell_type": "markdown",
   "id": "e7cc8cda",
   "metadata": {
    "slideshow": {
     "slide_type": "subslide"
    }
   },
   "source": [
    "## Stereotyping\n",
    "<img src=\"figs/stereotyping.png\" width=\"600\"/>\n"
   ]
  },
  {
   "cell_type": "markdown",
   "id": "ffc17010",
   "metadata": {
    "slideshow": {
     "slide_type": "subslide"
    }
   },
   "source": [
    "## Deniration\n",
    "<img src=\"figs/denigration.jpg\" width=\"600\"/>\n"
   ]
  },
  {
   "cell_type": "markdown",
   "id": "04fbd296",
   "metadata": {
    "slideshow": {
     "slide_type": "subslide"
    }
   },
   "source": [
    "## Representation\n",
    "<img src=\"figs/representation.webp\" width=\"600\"/>\n",
    "\n",
    "https://www.glamour.com/story/google-search-ceo?msclkid=c4f9efcccfa711ec89705684cbf345af"
   ]
  },
  {
   "cell_type": "markdown",
   "id": "26672048",
   "metadata": {
    "slideshow": {
     "slide_type": "subslide"
    }
   },
   "source": [
    "## Types of Harm\n",
    "- A single AI/algorithmic decision making system can induce multiple types of harm"
   ]
  },
  {
   "cell_type": "markdown",
   "id": "c91e4915",
   "metadata": {
    "cell_style": "split",
    "slideshow": {
     "slide_type": "slide"
    }
   },
   "source": [
    "## Affected Groups of People\n",
    "- Not just users, also other (direct or indirect) stakeholders\n",
    "- Legally protected groups\n",
    "- Hitorically marginalized groups of people\n",
    "- Not always easy to identify most relevant groups\n",
    "- Most relevant groups might be specific to the use-case or the domain"
   ]
  },
  {
   "cell_type": "markdown",
   "id": "0ce3aabb",
   "metadata": {
    "slideshow": {
     "slide_type": "subslide"
    }
   },
   "source": [
    "## Discussions\n",
    "\n",
    "<table>\n",
    "<tr>\n",
    "<th> Groups of People </th>\n",
    "<th> Types of Harm </th>\n",
    "</tr>\n",
    "<tr>\n",
    "<td>\n",
    "Not just users, also other (direct or indirect) stakeholders\n",
    "\n",
    "</td>\n",
    "<td>\n",
    "Allocation\n",
    "\n",
    "</td>\n",
    "</tr>\n",
    "\n",
    "<tr>\n",
    "<td>\n",
    "    Legally protected groups\n",
    "\n",
    "</td>\n",
    "<td>\n",
    "    Quality of service\n",
    "\n",
    "</td>\n",
    "</tr>\n",
    "\n",
    "<tr>\n",
    "<td>\n",
    "    Hitorically marginalized groups of people\n",
    "\n",
    "</td>\n",
    "<td>\n",
    "    Stereotyping\n",
    "\n",
    "</td>\n",
    "</tr>\n",
    "\n",
    "<tr>\n",
    "<td>\n",
    "    Not always easy to identify most relevant groups\n",
    "\n",
    "</td>\n",
    "<td>\n",
    "    Denigration\n",
    "\n",
    "</td>\n",
    "</tr>\n",
    "\n",
    "<tr>\n",
    "<td>\n",
    "    Most relevant groups might be specific to the use-case or the domain\n",
    "\n",
    "</td>\n",
    "<td>\n",
    "    Over or under-representation\n",
    "\n",
    "</td>\n",
    "</tr>\n",
    "\n",
    "\n",
    "</table>"
   ]
  },
  {
   "cell_type": "markdown",
   "id": "177784e9",
   "metadata": {
    "slideshow": {
     "slide_type": "slide"
    }
   },
   "source": [
    "## Measurement Modeling\n",
    "- Quantitative social sciences\n",
    "- Unobservable theoretical constructs\n",
    "    - Intelligence\n",
    "    - Political ideology\n",
    "- Construct: an input or the output of the model    \n",
    "<p><center>\"A measurement model is a statistical model that links unobservable theoretical constructs, operationalized as latent variables, and observable properties.\"</center></p>\n",
    "\n",
    "https://arxiv.org/pdf/1912.05511.pdf"
   ]
  },
  {
   "cell_type": "markdown",
   "id": "00a487c3",
   "metadata": {
    "slideshow": {
     "slide_type": "subslide"
    }
   },
   "source": [
    "## Making Assumptions\n",
    "- We makae assumptions in any measurement process\n",
    "- We need to make these assumptions explicit and clear\n",
    "- E.g.: measuring hight"
   ]
  },
  {
   "cell_type": "markdown",
   "id": "11cb5845",
   "metadata": {
    "slideshow": {
     "slide_type": "subslide"
    }
   },
   "source": [
    "## Making Assumptions\n",
    "- We makae assumptions in any measurement process\n",
    "- We need to make these assumptions explicit and clear\n",
    "- E.g.: measuring hight\n",
    "    - Shoes? Hair?\n",
    "    - Effective vs. *real* height\n",
    "    - Measurement technique: photo, ruler, dating website\n",
    "    - Errors and statistical biases\n",
    "        - Measurement technique\n",
    "        - Demographic"
   ]
  },
  {
   "cell_type": "markdown",
   "id": "76d6a0f2",
   "metadata": {
    "slideshow": {
     "slide_type": "subslide"
    }
   },
   "source": [
    "## Measuring Socioeconomic Status\n",
    "- A person’s SES is understood as encompassing their social and economic position in relation to others. \n",
    "- SES(s) -?- income (i)\n",
    "    - i = s\n",
    "    - i = 4 * s^2\n",
    "    - i ~ N(s, sigma^2)\n",
    "- measuring income\n",
    "    - before/after tax\n",
    "    - insurance pay, type\n",
    "    - other deductions?\n",
    "    - time of month of pay/cadence (once or twice a month)"
   ]
  },
  {
   "cell_type": "markdown",
   "id": "0183786a",
   "metadata": {
    "slideshow": {
     "slide_type": "slide"
    }
   },
   "source": [
    "## Testing Assumptions\n",
    "- Modeling a measurement involves making assumptions\n",
    "- These assumptions need to be made explicit\n",
    "- Then they need to be tested!\n",
    "\n",
    "<p><center>\" Leaving them implicit or untested obscures\n",
    "any possible mismatches between the theoretical understanding of\n",
    "the construct purported to be measured and its operationalization,\n",
    "in turn obscuring any resulting fairness-related harms. \"</center></p>"
   ]
  },
  {
   "cell_type": "markdown",
   "id": "c0a560c6",
   "metadata": {
    "slideshow": {
     "slide_type": "subslide"
    }
   },
   "source": [
    "## Construct Reliability\n",
    "- _Test–retest reliability_: refers to the extent to which measurements of an unobservable theoretical construct, obtained from a measurement model at different points in time, remain the same, assuming that the construct has not changed.\n",
    "    - Analogous to the concept of precision (i.e., the inverse of variance)"
   ]
  },
  {
   "cell_type": "markdown",
   "id": "a06e6a4d",
   "metadata": {
    "slideshow": {
     "slide_type": "subslide"
    }
   },
   "source": [
    "## Construct Reliability: Test-retest reliability\n",
    "- Teacher assessment tool\n",
    "    - Rank teachers based on the impact they have on students\n",
    "- A teacher in New York City\n",
    "    - 26 years of experience\n",
    "    - first year 6 out of 100\n",
    "    - second year 96 out of 100\n",
    "- Possible mismatch between the construct purported to be measured (how good a teacher is) and its operationalization (the calculated score)."
   ]
  },
  {
   "cell_type": "markdown",
   "id": "c7311381",
   "metadata": {
    "slideshow": {
     "slide_type": "slide"
    }
   },
   "source": [
    "## Construct Validity\n",
    "- Roughly analogous to the concept of statistical unbiasedness\n",
    "- Both meaningful and useful\n",
    "- Questions:\n",
    "    - Do the measurements look plausible?\n",
    "    - Do they vary in ways that suggest that the operationalization may be inadvertently capturing aspects of other constructs?\n",
    "    - What are the consequences of using the measurements—including any societal impacts?\n",
    "- Feature, not a bug: they are not yes/no questions and are rather a matter or \"to what extent\""
   ]
  },
  {
   "cell_type": "markdown",
   "id": "1dc7943a",
   "metadata": {
    "slideshow": {
     "slide_type": "subslide"
    }
   },
   "source": [
    "## Construct Validity: Face Validity\n",
    "- Refers to the extent to which the measurements obtained from a measurement model look plausible — a “sniff test” of sorts.\n",
    "- Not sufficient on its own, but necessary.\n",
    "- Do these values look okay?\n",
    "    - Anomalies\n",
    "    - Extreme high variance\n",
    "    - Wrongly imputed data"
   ]
  },
  {
   "cell_type": "markdown",
   "id": "e4191f70",
   "metadata": {
    "slideshow": {
     "slide_type": "subslide"
    }
   },
   "source": [
    "## Construct Validity: Content Validity\n",
    "- Refers to the extent to which an operationalization wholly and fully captures the substantive nature of the construct purported to be measured.\n",
    "- Three different aspects:\n",
    "    - Contestedness\n",
    "    - Substantive Validity\n",
    "    - Structural Validity"
   ]
  },
  {
   "cell_type": "markdown",
   "id": "64cc478d",
   "metadata": {
    "slideshow": {
     "slide_type": "subslide"
    }
   },
   "source": [
    "## Construct Validity: Content Validity\n",
    "- Contestedness: multiple and maybe confilicting understandings\n",
    "    - A construct with several understandings probably cannot be measured with a single number.\n",
    "    - E.g.\n",
    "        - Customer value (short term, long term, loyalty, etc)\n",
    "        - Labeling comments as inappropriate"
   ]
  },
  {
   "cell_type": "markdown",
   "id": "494868fc",
   "metadata": {
    "slideshow": {
     "slide_type": "subslide"
    }
   },
   "source": [
    "## Construct Validity: Content Validity\n",
    "- Substantive Validity: the operationalization incorporates measurements of those—and only those—observable properties (and other unobservable theoretical constructs, if appropriate) thought to be related to the construct.\n",
    "    - Are we considering the right things and are we considering everything right?\n",
    "    - E.g.: SES and income\n",
    "        - Wealth, education, etc.\n"
   ]
  },
  {
   "cell_type": "markdown",
   "id": "b46f4f60",
   "metadata": {
    "slideshow": {
     "slide_type": "subslide"
    }
   },
   "source": [
    "## Construct Validity: Content Validity\n",
    "- Structural Validity: means demonstrating that the operationalization captures the structure of the relationships between the incorporated observable properties (and other unobservable theoretical constructs, if appropriate) and the construct purported to be measured, as well as the interrelationships between them.\n",
    "    - In causal diagram: do we have the right edges and the right directions?\n",
    "    - Mathematical model: do we have the right relationships between variables?"
   ]
  },
  {
   "cell_type": "markdown",
   "id": "a2d239a3",
   "metadata": {
    "slideshow": {
     "slide_type": "subslide"
    }
   },
   "source": [
    "# Discussion\n",
    "- Construct reliability\n",
    "    - Test-retest reliability\n",
    "- Construct Validity\n",
    "    - Face Validity\n",
    "    - Content Validity\n",
    "        - Contestedness\n",
    "        - Substantive Validity\n",
    "        - Structural Validity\n",
    "- How would you test them?\n",
    "    - Qualitative\n",
    "    - Quantitative\n",
    "- Both input and output of a model/system"
   ]
  },
  {
   "cell_type": "markdown",
   "id": "ed5b141c",
   "metadata": {
    "slideshow": {
     "slide_type": "subslide"
    }
   },
   "source": [
    "## Construct Validity: Convergent Validity\n",
    "- Refers to the extent to which the measurements obtained from a measurement model correlate with other measurements of the same construct, obtained from measurement models for which construct validity has already been established.\n",
    "    - How much techer scores deviate from peers' and principal's review?\n",
    "    - Do we need a new measurement model if we already have an established one?\n",
    "    - If there are disparities, you might want to investigate.\n",
    "    - Warning! If two models are invalid, they might correlate! (E.g.: policing use-cases) "
   ]
  },
  {
   "cell_type": "markdown",
   "id": "122c3c55",
   "metadata": {
    "slideshow": {
     "slide_type": "subslide"
    }
   },
   "source": [
    "## Construct Validity: Discriminant Validity\n",
    "- Refers to the extent to which the measurements obtained from a measurement model vary in ways that suggest that the operationalization may be inadvertently capturing aspects of other constructs.\n",
    "    - If two constructs are unrelated, their measurements shouldn't be correlated.\n",
    "    - SES, gender, and race: we should see some correlations.\n",
    "    - Patients' future care cost and race: study showed they were correlated the opposite way."
   ]
  },
  {
   "cell_type": "markdown",
   "id": "c9a72992",
   "metadata": {
    "slideshow": {
     "slide_type": "subslide"
    }
   },
   "source": [
    "## Construct Validity: Predictive Validity\n",
    "- Refers to the extent to which the measurements obtained from a measurement model are predictive of measurements of any relevant observable properties (and other unobservable theoretical constructs) thought to be related to the construct purported to be measured, but not incorporated into the operationalization.\n",
    "    - Can we predict things we should be able to predict using our measurements?\n",
    "    - Patients health status should be predictable from patient's predicted future care needs, but the predicted patient's future care cost was not.\n",
    "    - Are hight and weight measurements correlated?"
   ]
  },
  {
   "cell_type": "markdown",
   "id": "07dc94b5",
   "metadata": {
    "slideshow": {
     "slide_type": "subslide"
    }
   },
   "source": [
    "## Construct Validity: Hypothesis Validity\n",
    "- Refers to the extent to which the measurements obtained from a measurement model support substantively interesting hypotheses about the construct purported to be measured.\n",
    "    - Closely related to predictive validity.\n",
    "    - What do SES measurements show for wealthy college students but no income, and how does that correlated with health status?"
   ]
  },
  {
   "cell_type": "markdown",
   "id": "9d42d2ae",
   "metadata": {
    "slideshow": {
     "slide_type": "subslide"
    }
   },
   "source": [
    "## Discussion\n",
    "- Convergent Validity: different ways of measuring the same thing coverge?\n",
    "- Discriminant Validity: related features are correlated, and other way around\n",
    "- Predictive Validity: can we predict things we should be able to using this measurement?\n",
    "- Hypothesis Validity: does the data support interesting hypotheses?"
   ]
  },
  {
   "cell_type": "markdown",
   "id": "09bb08f5",
   "metadata": {
    "slideshow": {
     "slide_type": "subslide"
    }
   },
   "source": [
    "## Construct Validity: Consequential Validity\n",
    "- It is concerned with identifying and evaluating the consequences of using the measurements obtained from a measurement model, including any societal impacts.\n",
    "- Its assessment reveals fairness related harms.\n",
    "-  The measurements both reflect structure in the natural world, and impose structure upon it."
   ]
  },
  {
   "cell_type": "markdown",
   "id": "31c33b81",
   "metadata": {
    "slideshow": {
     "slide_type": "subslide"
    }
   },
   "source": [
    "## Construct Validity: Consequential Validity\n",
    "- How is the world shaped based on the measurement?\n",
    "- What is the world we want to live in?\n",
    "- If there are conflicts, should we use the model or a modified version of it, or not at all?\n",
    "- E.g.: Hiring\n",
    "    - What are the demographics of STEM/CS graduates?\n",
    "    - What are the demographics and the diversity of workforce we'd like to have in a company.\n",
    "- E.g.: Teacher scores\n",
    "    - Teachers focusing on teaching the test instead."
   ]
  },
  {
   "cell_type": "markdown",
   "id": "5693e399",
   "metadata": {
    "slideshow": {
     "slide_type": "subslide"
    }
   },
   "source": [
    "## Consequential Validity\n",
    "- Who are impacted by the system?\n",
    "- How does the system change the world?\n",
    "- What consequences do we desire from the system?\n",
    "- What are the intended and unintended consequences of this product or feature?\n",
    "- What are the positive consequences we want to focus on?\n",
    "- What are the consequences we want to mitigate?\n",
    "\n",
    "https://doteveryone.org.uk/project/consequence-scanning/"
   ]
  },
  {
   "cell_type": "markdown",
   "id": "285eb549",
   "metadata": {
    "slideshow": {
     "slide_type": "slide"
    }
   },
   "source": [
    "## Fairness as a Construct\n",
    "- Substantive Validity: fairness by nature is contested and has many aspects to it."
   ]
  },
  {
   "cell_type": "markdown",
   "id": "cbc850ec",
   "metadata": {
    "slideshow": {
     "slide_type": "subslide"
    }
   },
   "source": [
    "## Fairness as a Construct\n",
    "- Different definitions of fairness\n",
    "- Group fairness vs individual fairness"
   ]
  },
  {
   "cell_type": "markdown",
   "id": "90b7a100",
   "metadata": {
    "slideshow": {
     "slide_type": "subslide"
    }
   },
   "source": [
    "## Fairness as a Construct\n",
    "- Individual fairness:\n",
    "    - Similar individuals should be treated similarly.\n",
    "    - What constitutes \"similarity\" in a given context?"
   ]
  },
  {
   "cell_type": "markdown",
   "id": "8e43b254",
   "metadata": {
    "slideshow": {
     "slide_type": "subslide"
    }
   },
   "source": [
    "## Fairness as a Construct\n",
    "- Group fairness:\n",
    "    - Different definitions, often in conflict with one another\n",
    "- COMPASS: predict chance of recidivism\n",
    "    - Incorrectly score Black defendents as high risk more than white ones\n",
    "    - Lacks error-rate-balance\n",
    "    - Probability of recidivism was high for individuals no matter their race\n",
    "    - Has predictive-parity\n",
    "- Demographic factors\n",
    "    - Race, gender, etc.\n",
    "    - None of clearcut measurable variables"
   ]
  },
  {
   "cell_type": "markdown",
   "id": "a7df4147",
   "metadata": {
    "slideshow": {
     "slide_type": "subslide"
    }
   },
   "source": [
    "## Discussion\n",
    "- Who are impacted by the system?\n",
    "- How does the system change the world?\n",
    "- What consequences do we desire from the system?\n",
    "- What are the intended and unintended consequences of this product or feature?\n",
    "- What are the positive consequences we want to focus on?\n",
    "- What are the consequences we want to mitigate?\n",
    "\n",
    "- Fairness\n",
    "- What applies to your usecase?\n",
    "- Which disparities are more important to you than others?"
   ]
  },
  {
   "cell_type": "markdown",
   "id": "73689fc6",
   "metadata": {
    "slideshow": {
     "slide_type": "slide"
    }
   },
   "source": [
    "## Resources\n",
    "- Fairness-related harms in AI systems: Examples, assessment, and mitigation, https://www.youtube.com/watch?v=1RptHwfkx_k\n",
    "- Jacobs, Abigail Z., and Hanna Wallach. \"Measurement and fairness.\" Proceedings of the 2021 ACM conference on fairness, accountability, and transparency. 2021.\n",
    "- https://doteveryone.org.uk/project/consequence-scanning/\n",
    "- https://fairlearn.org/"
   ]
  },
  {
   "cell_type": "markdown",
   "id": "141d5f71",
   "metadata": {
    "slideshow": {
     "slide_type": "slide"
    }
   },
   "source": [
    "<h1><center>Questions!</center></h1>"
   ]
  }
 ],
 "metadata": {
  "celltoolbar": "Slideshow",
  "kernelspec": {
   "display_name": "Python 3 (ipykernel)",
   "language": "python",
   "name": "python3"
  },
  "language_info": {
   "codemirror_mode": {
    "name": "ipython",
    "version": 3
   },
   "file_extension": ".py",
   "mimetype": "text/x-python",
   "name": "python",
   "nbconvert_exporter": "python",
   "pygments_lexer": "ipython3",
   "version": "3.9.9"
  }
 },
 "nbformat": 4,
 "nbformat_minor": 5
}
