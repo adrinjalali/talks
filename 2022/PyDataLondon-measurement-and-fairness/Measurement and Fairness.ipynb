{
 "cells": [
  {
   "cell_type": "markdown",
   "id": "00da8b85",
   "metadata": {
    "slideshow": {
     "slide_type": "slide"
    }
   },
   "source": [
    "<h1><center>Measurement and Fairness</center></h1>\n",
    "<h2><center>Questions and Practices to Make Algorithmic Decision Making more Fair</center></h2>\n",
    "<h3><center>Adrin Jalali</center></h3>\n",
    "<h4><center>Hugging Face</center></h3>\n",
    "<h4><center>May 2022</center></h3>\n"
   ]
  },
  {
   "cell_type": "markdown",
   "id": "9449b042",
   "metadata": {
    "slideshow": {
     "slide_type": "subslide"
    }
   },
   "source": [
    "## Me\n",
    "- PhD in interpretable methods for cancer diagnostics\n",
    "- ML consulting\n",
    "- Worked in an algorithmic privacy and fairness team\n",
    "- Open source\n",
    "    - scikit-learn\n",
    "    - fairlearn\n",
    "- Now at HuggingFace"
   ]
  },
  {
   "cell_type": "markdown",
   "id": "ac2a3932",
   "metadata": {
    "slideshow": {
     "slide_type": "subslide"
    }
   },
   "source": [
    "## Ground Rules\n",
    "- Safe space\n",
    "- No judgement\n",
    "- Ask any questions you might have\n",
    "- Share experiences"
   ]
  },
  {
   "cell_type": "markdown",
   "id": "4a483164",
   "metadata": {
    "slideshow": {
     "slide_type": "subslide"
    }
   },
   "source": [
    "## Interactivity\n",
    "- Choose an AI or a algorithmic decision making system\n",
    "  - Recommendation system\n",
    "  - Fraud detection\n",
    "  - Image/text search\n",
    "  - Insurance claims\n",
    "  - Facial recognition\n",
    "  - Voice recognition\n",
    "  - Language understanding\n",
    "  - ...\n",
    "- Be very specific, e.g.: a chatbot to direct patients to the right doctor at a clinic\n",
    "- Think about your system as we go along and ask questions!"
   ]
  },
  {
   "cell_type": "markdown",
   "id": "14ed193e",
   "metadata": {
    "slideshow": {
     "slide_type": "slide"
    }
   },
   "source": [
    "### Sociotechnical Issue\n",
    "- Fairness related types of harm\n",
    "- To which groups of people do these harms apply?\n",
    "- Where do these harms come from?"
   ]
  },
  {
   "cell_type": "markdown",
   "id": "db62c0f0",
   "metadata": {
    "slideshow": {
     "slide_type": "slide"
    }
   },
   "source": [
    "## Types of Harm\n",
    "- Allocation\n",
    "- Quality of service\n",
    "- Stereotyping\n",
    "- Denigration\n",
    "- Over or under-representation"
   ]
  },
  {
   "cell_type": "markdown",
   "id": "88887170",
   "metadata": {
    "slideshow": {
     "slide_type": "subslide"
    }
   },
   "source": [
    "## Allocation\n",
    "<div>\n",
    "<img src=\"figs/allocation.png\" width=\"600\"/>\n",
    "</div>"
   ]
  },
  {
   "cell_type": "markdown",
   "id": "013249b3",
   "metadata": {
    "slideshow": {
     "slide_type": "subslide"
    }
   },
   "source": [
    "## Quality of Service\n",
    "<img src=\"figs/qos.png\" width=\"600\"/>\n",
    "\n",
    "http://gendershades.org/overview.html"
   ]
  },
  {
   "cell_type": "markdown",
   "id": "e7cc8cda",
   "metadata": {
    "slideshow": {
     "slide_type": "subslide"
    }
   },
   "source": [
    "## Stereotyping\n",
    "<img src=\"figs/stereotyping.png\" width=\"600\"/>\n"
   ]
  },
  {
   "cell_type": "markdown",
   "id": "ffc17010",
   "metadata": {
    "slideshow": {
     "slide_type": "subslide"
    }
   },
   "source": [
    "## Denigration\n",
    "<img src=\"figs/denigration.jpg\" width=\"600\"/>\n"
   ]
  },
  {
   "cell_type": "markdown",
   "id": "04fbd296",
   "metadata": {
    "slideshow": {
     "slide_type": "subslide"
    }
   },
   "source": [
    "## Representation\n",
    "<img src=\"figs/representation.webp\" width=\"600\"/>\n",
    "\n",
    "https://www.glamour.com/story/google-search-ceo?msclkid=c4f9efcccfa711ec89705684cbf345af"
   ]
  },
  {
   "cell_type": "markdown",
   "id": "26672048",
   "metadata": {
    "slideshow": {
     "slide_type": "subslide"
    }
   },
   "source": [
    "## Types of Harm\n",
    "- A single AI/algorithmic decision making system can induce multiple types of harm"
   ]
  },
  {
   "cell_type": "markdown",
   "id": "c91e4915",
   "metadata": {
    "cell_style": "split",
    "slideshow": {
     "slide_type": "slide"
    }
   },
   "source": [
    "## Affected Groups of People\n",
    "- Not just users, also other (direct or indirect) stakeholders\n",
    "- Legally protected groups\n",
    "- Hitorically marginalized groups of people\n",
    "- Not always easy to identify most relevant groups\n",
    "    - Left handed people + iphone release + youtube\n",
    "- Most relevant groups might be specific to the use-case or the domain"
   ]
  },
  {
   "cell_type": "markdown",
   "id": "0ce3aabb",
   "metadata": {
    "slideshow": {
     "slide_type": "subslide"
    }
   },
   "source": [
    "## Review\n",
    "\n",
    "<table>\n",
    "<tr>\n",
    "<th> Groups of People </th>\n",
    "<th> Types of Harm </th>\n",
    "</tr>\n",
    "<tr>\n",
    "<td>\n",
    "Not just users, also other (direct or indirect) stakeholders\n",
    "\n",
    "</td>\n",
    "<td>\n",
    "Allocation\n",
    "\n",
    "</td>\n",
    "</tr>\n",
    "\n",
    "<tr>\n",
    "<td>\n",
    "    Legally protected groups\n",
    "\n",
    "</td>\n",
    "<td>\n",
    "    Quality of service\n",
    "\n",
    "</td>\n",
    "</tr>\n",
    "\n",
    "<tr>\n",
    "<td>\n",
    "    Hitorically marginalized groups of people\n",
    "\n",
    "</td>\n",
    "<td>\n",
    "    Stereotyping\n",
    "\n",
    "</td>\n",
    "</tr>\n",
    "\n",
    "<tr>\n",
    "<td>\n",
    "    Not always easy to identify most relevant groups\n",
    "\n",
    "</td>\n",
    "<td>\n",
    "    Denigration\n",
    "\n",
    "</td>\n",
    "</tr>\n",
    "\n",
    "<tr>\n",
    "<td>\n",
    "    Most relevant groups might be specific to the use-case or the domain\n",
    "\n",
    "</td>\n",
    "<td>\n",
    "    Over or under-representation\n",
    "\n",
    "</td>\n",
    "</tr>\n",
    "\n",
    "\n",
    "</table>"
   ]
  },
  {
   "cell_type": "markdown",
   "id": "177784e9",
   "metadata": {
    "slideshow": {
     "slide_type": "slide"
    }
   },
   "source": [
    "## Measurement Modeling\n",
    "- Quantitative social sciences\n",
    "- Unobservable theoretical constructs\n",
    "    - Intelligence\n",
    "    - Political ideology\n",
    "- Construct: an input or the output of the model    \n",
    "<p><center>\"A measurement model is a statistical model that links unobservable theoretical constructs, operationalized as latent variables, and observable properties.\"</center></p>\n",
    "\n",
    "https://arxiv.org/pdf/1912.05511.pdf"
   ]
  },
  {
   "cell_type": "markdown",
   "id": "00a487c3",
   "metadata": {
    "slideshow": {
     "slide_type": "subslide"
    }
   },
   "source": [
    "## Making Assumptions\n",
    "- We make assumptions in any measurement process, i.e. the process during which we gather data\n",
    "- We need to make these assumptions explicit and clear\n",
    "- E.g.: measuring hight"
   ]
  },
  {
   "cell_type": "markdown",
   "id": "11cb5845",
   "metadata": {
    "slideshow": {
     "slide_type": "subslide"
    }
   },
   "source": [
    "## Making Assumptions\n",
    "- We make assumptions in any measurement process\n",
    "- We need to make these assumptions explicit and clear\n",
    "- E.g.: measuring hight\n",
    "    - Shoes? Hair?\n",
    "    - Effective vs. *real* height\n",
    "    - Measurement technique: photo, ruler, dating website\n",
    "    - Errors and statistical biases\n",
    "        - Measurement technique\n",
    "        - Demographic"
   ]
  },
  {
   "cell_type": "markdown",
   "id": "76d6a0f2",
   "metadata": {
    "slideshow": {
     "slide_type": "subslide"
    }
   },
   "source": [
    "## Measuring Socioeconomic Status\n",
    "- A person’s SES is understood as encompassing their social and economic position in relation to others. \n",
    "- SES(s) -?- income (i)\n",
    "    - i = s\n",
    "    - i = 4 * s^2\n",
    "    - i ~ N(s, sigma^2)\n",
    "- measuring income\n",
    "    - before/after tax\n",
    "    - insurance deductions, type\n",
    "    - other deductions?"
   ]
  },
  {
   "cell_type": "markdown",
   "id": "cee9a4f0",
   "metadata": {
    "slideshow": {
     "slide_type": "subslide"
    }
   },
   "source": [
    "## Measuring Teacher Effectiveness\n",
    "- Score teachers by measuring \"value added\" to students\n",
    "- Another way of measuring \"teacher effectiveness\"\n",
    "- Two models implemented:\n",
    "    - When students are given standardized tests in consecutive years\n",
    "    - When they're given those tests in a single year\n",
    "- Compares students to themselves and to the average of their peers in the district"
   ]
  },
  {
   "cell_type": "markdown",
   "id": "80abe22c",
   "metadata": {
    "slideshow": {
     "slide_type": "subslide"
    }
   },
   "source": [
    "## Measuring Risk of Recidivism\n",
    "- COMPAS: measure a defendant’s risk of recidivism\n",
    "-  Input variables:\n",
    "    - prior criminal history\n",
    "    - criminal associates\n",
    "    - drug involvement\n",
    "    - early indicators of juvenile delinquency problems\n",
    "- Output:\n",
    "    - A score 1 - 10\n",
    "    - a new misdemeanor or felony arrest within two years"
   ]
  },
  {
   "cell_type": "markdown",
   "id": "2f5e1f73",
   "metadata": {
    "slideshow": {
     "slide_type": "subslide"
    }
   },
   "source": [
    "## Measuring Patient Benefit\n",
    "- Identify patients who might benefit from enrollment in high-risk care management programs\n",
    "    - Could we help this patient, and reduce costs by helping this patient early\n",
    "    - \"those with the greatest care needs will benefit the most from the programs\"\n",
    "- Using care costs as a proxy for care need"
   ]
  },
  {
   "cell_type": "markdown",
   "id": "deb6d8f4",
   "metadata": {
    "slideshow": {
     "slide_type": "subslide"
    }
   },
   "source": [
    "## Wine Recommendation System\n",
    "- Recommend wine which would best accompany a certain type of dish"
   ]
  },
  {
   "cell_type": "markdown",
   "id": "06cc781b",
   "metadata": {
    "slideshow": {
     "slide_type": "subslide"
    }
   },
   "source": [
    "## Content Moderation System\n",
    "- Flag user reviews or comments which are inappropriate\n",
    "- What's \"inappropriate\"?\n",
    "- How is the training data gathered/generated?\n"
   ]
  },
  {
   "cell_type": "markdown",
   "id": "0183786a",
   "metadata": {
    "slideshow": {
     "slide_type": "slide"
    }
   },
   "source": [
    "## Testing Assumptions\n",
    "- Modeling a measurement involves making assumptions\n",
    "- These assumptions need to be made explicit\n",
    "- Then they need to be tested!\n",
    "\n",
    "<p><center>\" Leaving them implicit or untested obscures\n",
    "any possible mismatches between the theoretical understanding of\n",
    "the construct purported to be measured and its operationalization,\n",
    "in turn obscuring any resulting fairness-related harms. \"</center></p>"
   ]
  },
  {
   "cell_type": "markdown",
   "id": "c0a560c6",
   "metadata": {
    "slideshow": {
     "slide_type": "subslide"
    }
   },
   "source": [
    "## Construct Reliability\n",
    "- _Test–retest reliability_: refers to the extent to which measurements of an unobservable theoretical construct, obtained from a measurement model at different points in time, remain the same, assuming that the construct has not changed.\n",
    "    - Analogous to the concept of precision (i.e., the inverse of variance)"
   ]
  },
  {
   "cell_type": "markdown",
   "id": "a06e6a4d",
   "metadata": {
    "slideshow": {
     "slide_type": "subslide"
    }
   },
   "source": [
    "## Construct Reliability: Test-retest reliability\n",
    "- Teacher assessment tool\n",
    "    - Rank teachers based on the impact they have on students\n",
    "- A teacher in New York City\n",
    "    - 26 years of experience\n",
    "    - first year 6 out of 100\n",
    "    - second year 96 out of 100\n",
    "- Possible mismatch between the construct purported to be measured (how good a teacher is) and its operationalization (the calculated score)."
   ]
  },
  {
   "cell_type": "markdown",
   "id": "e3226db0",
   "metadata": {
    "slideshow": {
     "slide_type": "subslide"
    }
   },
   "source": [
    "## Construct Reliability: Test-retest reliability\n",
    "- SES"
   ]
  },
  {
   "cell_type": "markdown",
   "id": "b79dc170",
   "metadata": {
    "slideshow": {
     "slide_type": "subslide"
    }
   },
   "source": [
    "## Construct Reliability: Test-retest reliability\n",
    "- SES\n",
    "- Variance of an individual's SES across months\n",
    "- Measurement issues:\n",
    "    - Aggregating by calendar month"
   ]
  },
  {
   "cell_type": "markdown",
   "id": "c5ae46d7",
   "metadata": {
    "slideshow": {
     "slide_type": "subslide"
    }
   },
   "source": [
    "## Construct Reliability: Test-retest reliability\n",
    "- Content moderation system"
   ]
  },
  {
   "cell_type": "markdown",
   "id": "13f2299c",
   "metadata": {
    "slideshow": {
     "slide_type": "subslide"
    }
   },
   "source": [
    "## Construct Reliability: Test-retest reliability\n",
    "- Content moderation system\n",
    "- Do similar comments get flagged for the same reason?\n",
    "- Agreeability of annotators\n",
    "- Guidelines and training for the annotator team"
   ]
  },
  {
   "cell_type": "markdown",
   "id": "c7311381",
   "metadata": {
    "slideshow": {
     "slide_type": "slide"
    }
   },
   "source": [
    "## Construct Validity\n",
    "- Roughly analogous to the concept of statistical unbiasedness\n",
    "- Both meaningful and useful\n",
    "- Questions:\n",
    "    - Do the measurements look plausible?\n",
    "    - Do they vary in ways that suggest that the operationalization may be inadvertently capturing aspects of other constructs?\n",
    "    - What are the consequences of using the measurements—including any societal impacts?\n",
    "- Feature, not a bug: they are not yes/no questions and are rather a matter or \"to what extent\""
   ]
  },
  {
   "cell_type": "markdown",
   "id": "1dc7943a",
   "metadata": {
    "slideshow": {
     "slide_type": "subslide"
    }
   },
   "source": [
    "## Construct Validity: Face Validity\n",
    "- Refers to the extent to which the measurements obtained from a measurement model look plausible — a “sniff test” of sorts.\n",
    "- Not sufficient on its own, but necessary.\n",
    "- Do these values look okay?\n",
    "    - Anomalies\n",
    "    - Unexpectedly high variance\n",
    "    - Wrongly imputed data"
   ]
  },
  {
   "cell_type": "markdown",
   "id": "5a4a7266",
   "metadata": {
    "slideshow": {
     "slide_type": "subslide"
    }
   },
   "source": [
    "## Construct Validity: Face Validity\n",
    "- Height measurements\n",
    "    - Do they agree with the reported average height of a demographic in an area?\n",
    "- SES\n",
    "    - Are the values realistic?\n",
    "    - E.g.: comma versus dot separation in numbers"
   ]
  },
  {
   "cell_type": "markdown",
   "id": "e4191f70",
   "metadata": {
    "slideshow": {
     "slide_type": "subslide"
    }
   },
   "source": [
    "## Construct Validity: Content Validity\n",
    "- Refers to the extent to which an operationalization wholly and fully captures the substantive nature of the construct purported to be measured.\n",
    "- Three different aspects:\n",
    "    - Contestedness\n",
    "    - Substantive Validity\n",
    "    - Structural Validity"
   ]
  },
  {
   "cell_type": "markdown",
   "id": "64cc478d",
   "metadata": {
    "slideshow": {
     "slide_type": "subslide"
    }
   },
   "source": [
    "## Construct Validity: Content Validity\n",
    "- Contestedness: multiple and maybe confilicting understandings\n",
    "    - A construct with several understandings probably cannot be measured with a single number."
   ]
  },
  {
   "cell_type": "markdown",
   "id": "59942e95",
   "metadata": {
    "slideshow": {
     "slide_type": "subslide"
    }
   },
   "source": [
    "## Construct Validity: Content Validity\n",
    "- Customer value\n"
   ]
  },
  {
   "cell_type": "markdown",
   "id": "4d02ae3a",
   "metadata": {
    "slideshow": {
     "slide_type": "subslide"
    }
   },
   "source": [
    "## Construct Validity: Content Validity\n",
    "- Customer value\n",
    "    - Short term\n",
    "    - Long term\n",
    "    - Loyalty\n",
    "    - etc."
   ]
  },
  {
   "cell_type": "markdown",
   "id": "15c50101",
   "metadata": {
    "slideshow": {
     "slide_type": "subslide"
    }
   },
   "source": [
    "## Construct Validity: Content Validity\n",
    "- Inappropriate comments"
   ]
  },
  {
   "cell_type": "markdown",
   "id": "ce4eb3e7",
   "metadata": {
    "slideshow": {
     "slide_type": "subslide"
    }
   },
   "source": [
    "## Construct Validity: Content Validity\n",
    "- Inappropriate comments\n",
    "    - Racist, sexist, etc.\n",
    "    - Adult content\n",
    "    - Violates a certain law (wihch one?)\n",
    "    - You don't like these comments on your platform\n",
    "    - etc"
   ]
  },
  {
   "cell_type": "markdown",
   "id": "494868fc",
   "metadata": {
    "slideshow": {
     "slide_type": "subslide"
    }
   },
   "source": [
    "## Construct Validity: Content Validity\n",
    "- Substantive Validity: the operationalization incorporates measurements of those—and only those—observable properties (and other unobservable theoretical constructs, if appropriate) thought to be related to the construct.\n",
    "    - Are we considering the right things and are we considering everything right?\n"
   ]
  },
  {
   "cell_type": "markdown",
   "id": "e990d3d1",
   "metadata": {
    "slideshow": {
     "slide_type": "subslide"
    }
   },
   "source": [
    "## Construct Validity: Content Validity\n",
    "- SES and income\n"
   ]
  },
  {
   "cell_type": "markdown",
   "id": "af775d20",
   "metadata": {
    "slideshow": {
     "slide_type": "subslide"
    }
   },
   "source": [
    "## Construct Validity: Content Validity\n",
    "- SES and income\n",
    "    - Wealth, education, etc."
   ]
  },
  {
   "cell_type": "markdown",
   "id": "0a0d8791",
   "metadata": {
    "slideshow": {
     "slide_type": "subslide"
    }
   },
   "source": [
    "## Construct Validity: Content Validity\n",
    "- Wine recommendation"
   ]
  },
  {
   "cell_type": "markdown",
   "id": "34105890",
   "metadata": {
    "slideshow": {
     "slide_type": "subslide"
    }
   },
   "source": [
    "## Construct Validity: Content Validity\n",
    "- Wine recommendation\n",
    "    - User budget\n",
    "    - User preferences\n",
    "    - Regional variations on food and wine"
   ]
  },
  {
   "cell_type": "markdown",
   "id": "b46f4f60",
   "metadata": {
    "slideshow": {
     "slide_type": "subslide"
    }
   },
   "source": [
    "## Construct Validity: Content Validity\n",
    "- Structural Validity: means demonstrating that the operationalization captures the structure of the relationships between the incorporated observable properties (and other unobservable theoretical constructs, if appropriate) and the construct purported to be measured, as well as the interrelationships between them.\n",
    "    - In causal diagram: do we have the right edges and the right directions?\n",
    "    - Mathematical model: do we have the right relationships between variables?"
   ]
  },
  {
   "cell_type": "markdown",
   "id": "e3651a9f",
   "metadata": {
    "slideshow": {
     "slide_type": "subslide"
    }
   },
   "source": [
    "## Construct Validity: Content Validity\n",
    "- Teacher performance\n",
    "- SES\n",
    "- Both with pre-defined formula"
   ]
  },
  {
   "cell_type": "markdown",
   "id": "a2d239a3",
   "metadata": {
    "slideshow": {
     "slide_type": "subslide"
    }
   },
   "source": [
    "# Review\n",
    "- Construct reliability\n",
    "    - Test-retest reliability\n",
    "- Construct Validity\n",
    "    - Face Validity\n",
    "    - Content Validity\n",
    "        - Contestedness\n",
    "        - Substantive Validity\n",
    "        - Structural Validity\n",
    "- How would you test them?\n",
    "    - Qualitative\n",
    "    - Quantitative\n",
    "- Both input and output of a model/system"
   ]
  },
  {
   "cell_type": "markdown",
   "id": "ed5b141c",
   "metadata": {
    "slideshow": {
     "slide_type": "subslide"
    }
   },
   "source": [
    "## Construct Validity: Convergent Validity\n",
    "- Refers to the extent to which the measurements obtained from a measurement model correlate with other measurements of the same construct, obtained from measurement models for which construct validity has already been established.\n",
    "    - Teacher performance\n",
    "    - Predictive policing"
   ]
  },
  {
   "cell_type": "markdown",
   "id": "0c9f9c75",
   "metadata": {
    "slideshow": {
     "slide_type": "subslide"
    }
   },
   "source": [
    "## Construct Validity: Convergent Validity\n",
    "- Teacher Performance\n",
    "    - How much techer scores deviate from peers' and principal's review?\n",
    "    - Do we need a new measurement model if we already have an established one?\n",
    "    - If there are disparities, you might want to investigate."
   ]
  },
  {
   "cell_type": "markdown",
   "id": "8a2e85b9",
   "metadata": {
    "slideshow": {
     "slide_type": "subslide"
    }
   },
   "source": [
    "## Construct Validity: Convergent Validity\n",
    "- Predictive policing\n",
    "    - The predictions agree with collected data!\n",
    "    - Warning! If two models are invalid, they might correlate!"
   ]
  },
  {
   "cell_type": "markdown",
   "id": "122c3c55",
   "metadata": {
    "slideshow": {
     "slide_type": "subslide"
    }
   },
   "source": [
    "## Construct Validity: Discriminant Validity\n",
    "- Refers to the extent to which the measurements obtained from a measurement model vary in ways that suggest that the operationalization may be inadvertently capturing aspects of other constructs.\n",
    "    - If two constructs are unrelated, their measurements shouldn't be correlated, and the other way around.\n",
    "    - SES, gender, and race: we should see some correlations.\n",
    "    - Patients' future care cost"
   ]
  },
  {
   "cell_type": "markdown",
   "id": "93154a53",
   "metadata": {
    "slideshow": {
     "slide_type": "subslide"
    }
   },
   "source": [
    "## Construct Validity: Discriminant Validity\n",
    "- Patients' future care cost and race\n",
    "    - Study showed they were correlated the opposite way."
   ]
  },
  {
   "cell_type": "markdown",
   "id": "c9a72992",
   "metadata": {
    "slideshow": {
     "slide_type": "subslide"
    }
   },
   "source": [
    "## Construct Validity: Predictive Validity\n",
    "- Refers to the extent to which the measurements obtained from a measurement model are predictive of measurements of any relevant observable properties (and other unobservable theoretical constructs) thought to be related to the construct purported to be measured, but not incorporated into the operationalization.\n",
    "    - Can we predict things we should be able to predict using our measurements?\n",
    "    - Patients health status should be predictable from patient's predicted future care needs, but the predicted patient's future care cost was not."
   ]
  },
  {
   "cell_type": "markdown",
   "id": "07dc94b5",
   "metadata": {
    "slideshow": {
     "slide_type": "subslide"
    }
   },
   "source": [
    "## Construct Validity: Hypothesis Validity\n",
    "- Refers to the extent to which the measurements obtained from a measurement model support substantively interesting hypotheses about the construct purported to be measured.\n",
    "    - Closely related to predictive validity.\n",
    "    - SES and students"
   ]
  },
  {
   "cell_type": "markdown",
   "id": "44894c49",
   "metadata": {
    "slideshow": {
     "slide_type": "subslide"
    }
   },
   "source": [
    "## Construct Validity: Hypothesis Validity\n",
    "- SES and students\n",
    "    - Do wealthy students have a high SES in our measurements?\n",
    "    - Is that related to students' health status?"
   ]
  },
  {
   "cell_type": "markdown",
   "id": "9d42d2ae",
   "metadata": {
    "slideshow": {
     "slide_type": "subslide"
    }
   },
   "source": [
    "## Review\n",
    "- Convergent Validity: different ways of measuring the same thing coverge?\n",
    "- Discriminant Validity: related features are correlated, and other way around\n",
    "- Predictive Validity: can we predict things we should be able to using this measurement?\n",
    "- Hypothesis Validity: does the data support interesting hypotheses?"
   ]
  },
  {
   "cell_type": "markdown",
   "id": "09bb08f5",
   "metadata": {
    "slideshow": {
     "slide_type": "subslide"
    }
   },
   "source": [
    "## Construct Validity: Consequential Validity\n",
    "- It is concerned with identifying and evaluating the consequences of using the measurements obtained from a measurement model, including any societal impacts.\n",
    "- Its assessment reveals fairness related harms.\n",
    "-  The measurements both reflect structure in the world, and impose structure upon it."
   ]
  },
  {
   "cell_type": "markdown",
   "id": "31c33b81",
   "metadata": {
    "slideshow": {
     "slide_type": "subslide"
    }
   },
   "source": [
    "## Construct Validity: Consequential Validity\n",
    "- How is the world shaped based on the measurement?\n",
    "- What is the world we want to live in?\n",
    "- If there are conflicts, should we use the model or a modified version of it, or not at all?\n"
   ]
  },
  {
   "cell_type": "markdown",
   "id": "5693e399",
   "metadata": {
    "slideshow": {
     "slide_type": "subslide"
    }
   },
   "source": [
    "## Construct Validity: Consequential Validity\n",
    "- Who are impacted by the system?\n",
    "- How does the system change the world?\n",
    "- What consequences do we desire from the system?\n",
    "- What are the intended and unintended consequences of this product or feature?\n",
    "- What are the positive consequences we want to focus on?\n",
    "- What are the consequences we want to mitigate?\n",
    "\n",
    "https://doteveryone.org.uk/project/consequence-scanning/"
   ]
  },
  {
   "cell_type": "markdown",
   "id": "3eb364c2",
   "metadata": {
    "slideshow": {
     "slide_type": "subslide"
    }
   },
   "source": [
    "## Construct Validity: Consequential Validity\n",
    "- E.g.: Hiring\n",
    "    - What are the demographics of STEM/CS graduates?\n",
    "    - What are the demographics and the diversity of workforce we'd like to have in a company?\n",
    "- E.g.: Teacher scores\n",
    "    - Teachers focusing on teaching the test instead."
   ]
  },
  {
   "cell_type": "markdown",
   "id": "e90441a2",
   "metadata": {
    "slideshow": {
     "slide_type": "subslide"
    }
   },
   "source": [
    "## Construct Validity: Consequential Validity\n",
    "- Wine recommendation system"
   ]
  },
  {
   "cell_type": "markdown",
   "id": "ab223c05",
   "metadata": {
    "slideshow": {
     "slide_type": "subslide"
    }
   },
   "source": [
    "## Construct Validity: Consequential Validity\n",
    "- Wine recommendation system\n",
    "- Quality of service for people with\n",
    "    - lower income\n",
    "    - cuisines which are not represented in our dataset\n",
    "        - E.g.: Persian dishes?"
   ]
  },
  {
   "cell_type": "markdown",
   "id": "58a7ad3a",
   "metadata": {
    "slideshow": {
     "slide_type": "subslide"
    }
   },
   "source": [
    "## Construct Validity: Consequential Validity\n",
    "- Content moderation system"
   ]
  },
  {
   "cell_type": "markdown",
   "id": "cf614f07",
   "metadata": {
    "slideshow": {
     "slide_type": "subslide"
    }
   },
   "source": [
    "## Construct Validity: Consequential Validity\n",
    "- Content moderation system\n",
    "- People with a dialect not represented in the dataset\n",
    "    - PoC/Black communities\n",
    "    - Dialects from other countries with the same language"
   ]
  },
  {
   "cell_type": "markdown",
   "id": "285eb549",
   "metadata": {
    "slideshow": {
     "slide_type": "slide"
    }
   },
   "source": [
    "## Fairness as a Construct\n",
    "- Construct Reliability\n",
    "    - Test/Retest reliability\n",
    "- Construct Validity\n",
    "    - Face validity\n",
    "    - Content validity\n",
    "        - Contestedness\n",
    "        - Substantive Validity\n",
    "        - Structural validity\n",
    "    - Convergent validity\n",
    "    - Discriminant validity\n",
    "    - Predictive validity\n",
    "    - Hypothesis validity"
   ]
  },
  {
   "cell_type": "markdown",
   "id": "cbc850ec",
   "metadata": {
    "slideshow": {
     "slide_type": "subslide"
    }
   },
   "source": [
    "## Fairness as a Construct\n",
    "- Different definitions of fairness\n",
    "- Group fairness vs individual fairness (there's also couterfactual fairness)"
   ]
  },
  {
   "cell_type": "markdown",
   "id": "90b7a100",
   "metadata": {
    "slideshow": {
     "slide_type": "subslide"
    }
   },
   "source": [
    "## Fairness as a Construct\n",
    "- Individual fairness:\n",
    "    - Similar individuals should be treated similarly.\n",
    "    - What constitutes \"similarity\" in a given context?\n",
    "    - Do we look at an individual as what they are now or do we include their past history?"
   ]
  },
  {
   "cell_type": "markdown",
   "id": "8e43b254",
   "metadata": {
    "slideshow": {
     "slide_type": "subslide"
    }
   },
   "source": [
    "## Fairness as a Construct\n",
    "- Group fairness:\n",
    "    - Different definitions, often in conflict with one another\n",
    "- COMPASS: predict chance of recidivism\n",
    "    - Incorrectly score Black defendents as high risk more often than white ones\n",
    "    - Lacks error-rate-balance\n",
    "    - Probability of recidivism was high for individuals who scored high no matter their race\n",
    "    - Has predictive-parity\n",
    "- Demographic factors\n",
    "    - Race, gender, etc.\n",
    "    - None of clearcut measurable variables"
   ]
  },
  {
   "cell_type": "markdown",
   "id": "70e749a9",
   "metadata": {
    "slideshow": {
     "slide_type": "subslide"
    }
   },
   "source": [
    "## Review\n",
    "- What aspects of fairness are important in your case?\n",
    "    - What kind of parity do you care about?\n",
    "- Who are affected groups and communities?\n",
    "- What type of disparity would you need to measure?\n",
    "- What is your legal risk and exposure?\n",
    "- What do you care about and what kind of world would you like to build?\n",
    "- Think about intended and unintended, direct and indirect consequences of productionizing your system."
   ]
  },
  {
   "cell_type": "markdown",
   "id": "73689fc6",
   "metadata": {
    "slideshow": {
     "slide_type": "slide"
    }
   },
   "source": [
    "## Resources\n",
    "- Fairness-related harms in AI systems: Examples, assessment, and mitigation, https://www.youtube.com/watch?v=1RptHwfkx_k\n",
    "- Jacobs, Abigail Z., and Hanna Wallach. \"Measurement and fairness.\" Proceedings of the 2021 ACM conference on fairness, accountability, and transparency. 2021.\n",
    "- https://doteveryone.org.uk/project/consequence-scanning/\n",
    "- https://fairlearn.org/"
   ]
  },
  {
   "cell_type": "markdown",
   "id": "141d5f71",
   "metadata": {
    "slideshow": {
     "slide_type": "slide"
    }
   },
   "source": [
    "<h1><center>♡ Thank YOU ♡</center></h1>\n",
    "<h1><center>🤔 Questions! 🧐</center></h1>"
   ]
  }
 ],
 "metadata": {
  "celltoolbar": "Slideshow",
  "kernelspec": {
   "display_name": "Python 3 (ipykernel)",
   "language": "python",
   "name": "python3"
  },
  "language_info": {
   "codemirror_mode": {
    "name": "ipython",
    "version": 3
   },
   "file_extension": ".py",
   "mimetype": "text/x-python",
   "name": "python",
   "nbconvert_exporter": "python",
   "pygments_lexer": "ipython3",
   "version": "3.9.13"
  }
 },
 "nbformat": 4,
 "nbformat_minor": 5
}
