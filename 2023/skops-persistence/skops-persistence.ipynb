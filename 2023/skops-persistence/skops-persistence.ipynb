{
 "cells": [
  {
   "cell_type": "markdown",
   "id": "4da8224f",
   "metadata": {
    "slideshow": {
     "slide_type": "slide"
    }
   },
   "source": [
    "<h1><center>Let's exploit pickle</center></h1>\n",
    "<h2><center>and skops to the rescue!</center></h2>\n",
    "<h3><center>Adrin Jalali</center></h3>\n",
    "<h4><center>github.com/adrinjalali</center></h3>\n",
    "<h4><center>@adrin@kolektiva.social</center></h3>\n",
    "<h4><center>September 2023</center></h3>"
   ]
  },
  {
   "cell_type": "markdown",
   "id": "29c5e3cd",
   "metadata": {
    "slideshow": {
     "slide_type": "subslide"
    }
   },
   "source": [
    "## Me\n",
    "- PhD in interpretable methods for cancer diagnostics\n",
    "- ML consulting\n",
    "- Worked in an algorithmic privacy and fairness team\n",
    "- Open source\n",
    "    - `scikit-learn`\n",
    "    - `fairlearn`\n",
    "    - `skops`"
   ]
  },
  {
   "cell_type": "code",
   "execution_count": 1,
   "id": "b884a9ef",
   "metadata": {},
   "outputs": [],
   "source": [
    "import pickle"
   ]
  },
  {
   "cell_type": "code",
   "execution_count": 2,
   "id": "ba61b837",
   "metadata": {},
   "outputs": [
    {
     "name": "stdout",
     "output_type": "stream",
     "text": [
      "hello world\n"
     ]
    },
    {
     "data": {
      "text/plain": [
       "0"
      ]
     },
     "execution_count": 2,
     "metadata": {},
     "output_type": "execute_result"
    }
   ],
   "source": [
    "pickle.loads(b\"cos\\nsystem\\n(S'echo hello world'\\ntR.\")"
   ]
  },
  {
   "cell_type": "markdown",
   "id": "ac09dfb6",
   "metadata": {},
   "source": [
    "That relies on `os` being available, which we can customize when loading a pickle file:"
   ]
  },
  {
   "cell_type": "markdown",
   "id": "54c83532",
   "metadata": {},
   "source": [
    "\n",
    "``` python\n",
    "class RestrictedUnpickler(pickle.Unpickler):\n",
    "\n",
    "    def find_class(self, module, name):\n",
    "        # Only allow safe classes from builtins.\n",
    "        if module == \"builtins\" and name in safe_builtins:\n",
    "            return getattr(builtins, name)\n",
    "        # Forbid everything else.\n",
    "        raise pickle.UnpicklingError(\n",
    "            f\"global '{module}.{name}' is forbidden\"\n",
    "        )\n",
    "        \n",
    "with open(\"file.pkl\", \"rb\") as f:\n",
    "    obj = RestrictedUnpickler(f).load()\n",
    "```"
   ]
  },
  {
   "cell_type": "markdown",
   "id": "da13f6b9",
   "metadata": {},
   "source": [
    "*Exploits*: https://ctftime.org/writeup/16723"
   ]
  },
  {
   "cell_type": "markdown",
   "id": "a7d2cbb8",
   "metadata": {},
   "source": [
    "## PEP 307 - Extensions to the pickle protocol\n",
    "\n",
    "https://peps.python.org/pep-0307/#security-issues\n",
    "    \n",
    "<div>\n",
    "<img src=\"figs/security.png\" width=\"600\"/>\n",
    "</div>"
   ]
  },
  {
   "cell_type": "markdown",
   "id": "acb606ab",
   "metadata": {},
   "source": [
    "# pickles\n",
    "- Pickler\n",
    "- Unpickler\n",
    "- pickling instruction set (`OP` codes)"
   ]
  },
  {
   "cell_type": "markdown",
   "id": "baaaec02",
   "metadata": {},
   "source": [
    "# `__getstate__`, `__setstate__`\n",
    "\n",
    "https://docs.python.org/3/library/pickle.html"
   ]
  },
  {
   "cell_type": "code",
   "execution_count": 3,
   "id": "1e9ce5ed",
   "metadata": {},
   "outputs": [
    {
     "data": {
      "text/plain": [
       "42"
      ]
     },
     "execution_count": 3,
     "metadata": {},
     "output_type": "execute_result"
    }
   ],
   "source": [
    "class C:\n",
    "    def __getstate__(self):\n",
    "        return {\"a\": 42}\n",
    "    \n",
    "    def __setstate__(self, state):\n",
    "        for key, value in state.items():\n",
    "            setattr(self, key, value)\n",
    "            \n",
    "obj = pickle.loads(pickle.dumps(C()))\n",
    "obj.a"
   ]
  },
  {
   "cell_type": "code",
   "execution_count": 4,
   "id": "d1eb9610",
   "metadata": {},
   "outputs": [
    {
     "name": "stdout",
     "output_type": "stream",
     "text": [
      "    0: \\x80 PROTO      4\n",
      "    2: \\x95 FRAME      31\n",
      "   11: \\x8c SHORT_BINUNICODE '__main__'\n",
      "   21: \\x94 MEMOIZE    (as 0)\n",
      "   22: \\x8c SHORT_BINUNICODE 'C'\n",
      "   25: \\x94 MEMOIZE    (as 1)\n",
      "   26: \\x93 STACK_GLOBAL\n",
      "   27: \\x94 MEMOIZE    (as 2)\n",
      "   28: )    EMPTY_TUPLE\n",
      "   29: \\x81 NEWOBJ\n",
      "   30: \\x94 MEMOIZE    (as 3)\n",
      "   31: }    EMPTY_DICT\n",
      "   32: \\x94 MEMOIZE    (as 4)\n",
      "   33: \\x8c SHORT_BINUNICODE 'a'\n",
      "   36: \\x94 MEMOIZE    (as 5)\n",
      "   37: K    BININT1    42\n",
      "   39: s    SETITEM\n",
      "   40: b    BUILD\n",
      "   41: .    STOP\n",
      "highest protocol among opcodes = 4\n"
     ]
    }
   ],
   "source": [
    "import pickletools\n",
    "pickletools.dis(pickle.dumps(C()))"
   ]
  },
  {
   "cell_type": "code",
   "execution_count": 5,
   "id": "8cd4aed6",
   "metadata": {},
   "outputs": [
    {
     "data": {
      "text/plain": [
       "<__main__.C at 0x7f314048df70>"
      ]
     },
     "execution_count": 5,
     "metadata": {},
     "output_type": "execute_result"
    }
   ],
   "source": [
    "with open(\"/tmp/dumps/oddpickle.pkl\", \"wb\") as f:\n",
    "    pickle.dump(C(), f)\n",
    "\n",
    "with open(\"/tmp/dumps/oddpickle.pkl\", \"rb\") as f:\n",
    "    obj = pickle.load(f)\n",
    "obj"
   ]
  },
  {
   "cell_type": "markdown",
   "id": "79238407",
   "metadata": {},
   "source": [
    "# `__reduce__` 👹\n",
    "https://docs.python.org/3/library/pickle.html#object.__reduce__\n",
    "\n",
    "Returns a tuple of up to size 6, the first two mandatory:\n",
    "\n",
    "- A callable object that will be called to create the initial version of the object.\n",
    "- A tuple of arguments for the callable object. An empty tuple must be given if the callable does not accept any argument."
   ]
  },
  {
   "cell_type": "code",
   "execution_count": 6,
   "id": "be1a13d4",
   "metadata": {},
   "outputs": [
    {
     "name": "stdout",
     "output_type": "stream",
     "text": [
      "    0: \\x80 PROTO      4\n",
      "    2: \\x95 FRAME      44\n",
      "   11: \\x8c SHORT_BINUNICODE 'builtins'\n",
      "   21: \\x94 MEMOIZE    (as 0)\n",
      "   22: \\x8c SHORT_BINUNICODE 'print'\n",
      "   29: \\x94 MEMOIZE    (as 1)\n",
      "   30: \\x93 STACK_GLOBAL\n",
      "   31: \\x94 MEMOIZE    (as 2)\n",
      "   32: \\x8c SHORT_BINUNICODE '!!!I SEE YOU!!!'\n",
      "   49: \\x94 MEMOIZE    (as 3)\n",
      "   50: \\x85 TUPLE1\n",
      "   51: \\x94 MEMOIZE    (as 4)\n",
      "   52: R    REDUCE\n",
      "   53: \\x94 MEMOIZE    (as 5)\n",
      "   54: .    STOP\n",
      "highest protocol among opcodes = 4\n"
     ]
    }
   ],
   "source": [
    "class D:\n",
    "    def __reduce__(self):\n",
    "        return (print, (\"!!!I SEE YOU!!!\",))\n",
    "    \n",
    "pickled = pickle.dumps(D())\n",
    "pickletools.dis(pickled)"
   ]
  },
  {
   "cell_type": "code",
   "execution_count": 7,
   "id": "1dafb779",
   "metadata": {},
   "outputs": [
    {
     "name": "stdout",
     "output_type": "stream",
     "text": [
      "!!!I SEE YOU!!!\n"
     ]
    }
   ],
   "source": [
    "pickle.loads(pickled)"
   ]
  },
  {
   "cell_type": "code",
   "execution_count": 8,
   "id": "0120a6f4",
   "metadata": {},
   "outputs": [
    {
     "name": "stdout",
     "output_type": "stream",
     "text": [
      "    0: \\x80 PROTO      4\n",
      "    2: \\x95 FRAME      80\n",
      "   11: \\x8c SHORT_BINUNICODE 'posix'\n",
      "   18: \\x94 MEMOIZE    (as 0)\n",
      "   19: \\x8c SHORT_BINUNICODE 'system'\n",
      "   27: \\x94 MEMOIZE    (as 1)\n",
      "   28: \\x93 STACK_GLOBAL\n",
      "   29: \\x94 MEMOIZE    (as 2)\n",
      "   30: \\x8c SHORT_BINUNICODE 'echo \"!!!I\\'m in YOUR SYSTEM!!!\" > /tmp/dumps/demo.txt'\n",
      "   85: \\x94 MEMOIZE    (as 3)\n",
      "   86: \\x85 TUPLE1\n",
      "   87: \\x94 MEMOIZE    (as 4)\n",
      "   88: R    REDUCE\n",
      "   89: \\x94 MEMOIZE    (as 5)\n",
      "   90: .    STOP\n",
      "highest protocol among opcodes = 4\n"
     ]
    }
   ],
   "source": [
    "import os\n",
    "class E:\n",
    "    def __reduce__(self):\n",
    "        return (\n",
    "            os.system,\n",
    "            (\"\"\"echo \"!!!I'm in YOUR SYSTEM!!!\" > /tmp/dumps/demo.txt\"\"\",),\n",
    "        )\n",
    "    \n",
    "pickled = pickle.dumps(E())\n",
    "pickletools.dis(pickled)"
   ]
  },
  {
   "cell_type": "code",
   "execution_count": 9,
   "id": "b8761840",
   "metadata": {},
   "outputs": [
    {
     "data": {
      "text/plain": [
       "0"
      ]
     },
     "execution_count": 9,
     "metadata": {},
     "output_type": "execute_result"
    }
   ],
   "source": [
    "pickle.loads(pickled)"
   ]
  },
  {
   "cell_type": "markdown",
   "id": "89a55853",
   "metadata": {},
   "source": [
    "# Other attacks\n",
    "- Denial of service\n",
    "    - Unhandled exceptions\n",
    "    - Protocol downgrades\n",
    "    - pickle bombs\n",
    "- Weird Machine\n",
    "    - Unused `OP` codes, such as `DUP`\n",
    "    - Parser abuse\n",
    "    - Stack corruption\n",
    "    \n",
    "source: https://github.com/moreati/pickle-fuzz"
   ]
  },
  {
   "cell_type": "code",
   "execution_count": 10,
   "id": "09f961b1",
   "metadata": {},
   "outputs": [
    {
     "name": "stdout",
     "output_type": "stream",
     "text": [
      "Module(\n",
      "    body=[\n",
      "        Assign(\n",
      "            targets=[\n",
      "                Name(id='result', ctx=Store())],\n",
      "            value=List(\n",
      "                elts=[\n",
      "                    Constant(value=1),\n",
      "                    Constant(value=2),\n",
      "                    Constant(value=3),\n",
      "                    Constant(value=4)],\n",
      "                ctx=Load()))],\n",
      "    type_ignores=[])\n"
     ]
    }
   ],
   "source": [
    "import ast\n",
    "import pickle\n",
    "from fickling.pickle import Pickled\n",
    "print(ast.dump(Pickled.load(pickle.dumps([1, 2, 3, 4])).ast, indent=4))"
   ]
  },
  {
   "cell_type": "code",
   "execution_count": 11,
   "id": "bab356f9",
   "metadata": {},
   "outputs": [
    {
     "name": "stdout",
     "output_type": "stream",
     "text": [
      "Module(\n",
      "    body=[\n",
      "        ImportFrom(\n",
      "            module='posix',\n",
      "            names=[\n",
      "                alias(name='system')],\n",
      "            level=0),\n",
      "        Assign(\n",
      "            targets=[\n",
      "                Name(id='_var0', ctx=Store())],\n",
      "            value=Call(\n",
      "                func=Name(id='system', ctx=Load()),\n",
      "                args=[\n",
      "                    Constant(value='echo \"!!!I\\'m in YOUR SYSTEM!!!\" > /tmp/dumps/demo.txt')],\n",
      "                keywords=[])),\n",
      "        Assign(\n",
      "            targets=[\n",
      "                Name(id='result', ctx=Store())],\n",
      "            value=Name(id='_var0', ctx=Load()))],\n",
      "    type_ignores=[])\n"
     ]
    }
   ],
   "source": [
    "print(ast.dump(Pickled.load(pickle.dumps(E())).ast, indent=4))"
   ]
  },
  {
   "cell_type": "code",
   "execution_count": 12,
   "id": "4a2cc559",
   "metadata": {},
   "outputs": [
    {
     "name": "stdout",
     "output_type": "stream",
     "text": [
      "from __main__ import C\r\n",
      "_var0 = C()\r\n",
      "_var0.__setstate__({'a': 42})\r\n",
      "result = _var0\r\n"
     ]
    }
   ],
   "source": [
    "!fickling /tmp/dumps/oddpickle.pkl"
   ]
  },
  {
   "cell_type": "code",
   "execution_count": 13,
   "id": "55315aa6",
   "metadata": {},
   "outputs": [],
   "source": [
    "with open(\"/tmp/dumps/badpickle.pkl\", \"wb\") as f:\n",
    "    pickle.dump(E(), f)"
   ]
  },
  {
   "cell_type": "code",
   "execution_count": 14,
   "id": "902f15e4",
   "metadata": {},
   "outputs": [
    {
     "name": "stdout",
     "output_type": "stream",
     "text": [
      "from posix import system\r\n",
      "_var0 = system('echo \"!!!I\\'m in YOUR SYSTEM!!!\" > /tmp/dumps/demo.txt')\r\n",
      "result = _var0\r\n"
     ]
    }
   ],
   "source": [
    "!fickling /tmp/dumps/badpickle.pkl"
   ]
  },
  {
   "cell_type": "code",
   "execution_count": 15,
   "id": "05ccb4e3",
   "metadata": {},
   "outputs": [],
   "source": [
    "from sklearn.linear_model import LogisticRegression\n",
    "from sklearn.datasets import load_iris\n",
    "\n",
    "X, y = load_iris(return_X_y=True)\n",
    "\n",
    "clf = LogisticRegression(solver=\"liblinear\").fit(X, y)\n",
    "with open(\"/tmp/dumps/goodpickle.pkl\", \"wb\") as f:\n",
    "    pickle.dump(clf, f)"
   ]
  },
  {
   "cell_type": "code",
   "execution_count": 16,
   "id": "83c74e1c",
   "metadata": {},
   "outputs": [
    {
     "name": "stdout",
     "output_type": "stream",
     "text": [
      "from sklearn.linear_model._logistic import LogisticRegression\r\n",
      "from numpy.core.multiarray import _reconstruct\r\n",
      "from numpy import ndarray\r\n",
      "_var0 = _reconstruct(ndarray, (0,), b'b')\r\n",
      "from numpy import dtype\r\n",
      "_var1 = dtype('i8', False, True)\r\n",
      "_var2 = _var1\r\n",
      "_var2.__setstate__((3, '<', None, None, None, -1, -1, 0))\r\n",
      "_var3 = _var0\r\n",
      "_var3.__setstate__((1, (3,), _var2, False, b'\\x00\\x00\\x00\\x00\\x00\\x00\\x00\\x00\\x01\\x00\\x00\\x00\\x00\\x00\\x00\\x00\\x02\\x00\\x00\\x00\\x00\\x00\\x00\\x00'))\r\n",
      "_var4 = _reconstruct(ndarray, (0,), b'b')\r\n",
      "_var5 = dtype('f8', False, True)\r\n",
      "_var6 = _var5\r\n",
      "_var6.__setstate__((3, '<', None, None, None, -1, -1, 0))\r\n",
      "_var7 = _var4\r\n",
      "_var7.__setstate__((1, (3, 4), _var6, True, b', ?T\\xff@\\xda?\\xf6_5nM\\\\\\xdb?.z\\xa2\\x86\\xfbQ\\xfb\\xbf\\x0bh|N5m\\xf7?w\\xfa$3:\\xcb\\xf9\\xbf\\xbc\\x99m\\xbff\\x8c\\xf8\\xbf{\\xc8\\x01\\x01\\x8c\\x14\\x02\\xc0l\\xcb\\xc4e\\x18m\\xe2?\\xb3s\\x82\\xa2\\x8a\\xc4\\x03@`\\xf08\\xe4(V\\xf0\\xbf\"\\\\}\\x85\\xaf\\x7f\\xf6\\xbf\\x03M#\\nfq\\x04@'))\r\n",
      "_var8 = _reconstruct(ndarray, (0,), b'b')\r\n",
      "_var9 = _var8\r\n",
      "_var9.__setstate__((1, (3,), _var5, False, b\"\\xb5~?\\xd6\\xf4\\xe8\\xd0?\\x8d\\xd5\\xfc'\\xb7\\x80\\xf1??\\xc3\\xdc\\xe0ro\\xf3\\xbf\"))\r\n",
      "_var10 = _reconstruct(ndarray, (0,), b'b')\r\n",
      "_var11 = dtype('i4', False, True)\r\n",
      "_var12 = _var11\r\n",
      "_var12.__setstate__((3, '<', None, None, None, -1, -1, 0))\r\n",
      "_var13 = _var10\r\n",
      "_var13.__setstate__((1, (3,), _var12, False, b'\\x07\\x00\\x00\\x00\\x07\\x00\\x00\\x00\\x06\\x00\\x00\\x00'))\r\n",
      "_var14 = LogisticRegression()\r\n",
      "_var14.__setstate__({'penalty': 'l2', 'dual': False, 'tol': 0.0001, 'C': 1.0, 'fit_intercept': True, 'intercept_scaling': 1, 'class_weight': None, 'random_state': None, 'solver': 'liblinear', 'max_iter': 100, 'multi_class': 'auto', 'verbose': 0, 'warm_start': False, 'n_jobs': None, 'l1_ratio': None, 'n_features_in_': 4, 'classes_': _var3, 'coef_': _var7, 'intercept_': _var9, 'n_iter_': _var13, '_sklearn_version': '1.3.0'})\r\n",
      "result = _var14\r\n"
     ]
    }
   ],
   "source": [
    "!fickling /tmp/dumps/goodpickle.pkl"
   ]
  },
  {
   "cell_type": "markdown",
   "id": "1aedd127",
   "metadata": {},
   "source": [
    "**Fickling**: https://github.com/trailofbits/fickling"
   ]
  },
  {
   "cell_type": "markdown",
   "id": "4e72d429",
   "metadata": {},
   "source": [
    "# skops\n",
    "More secure persistence with `skops.io`\n",
    "\n",
    "https://skops.readthedocs.io/en/stable/persistence.html"
   ]
  },
  {
   "cell_type": "code",
   "execution_count": 17,
   "id": "80043c29",
   "metadata": {},
   "outputs": [
    {
     "ename": "UntrustedTypesFoundException",
     "evalue": "Untrusted types found in the file: ['__main__.D'].",
     "output_type": "error",
     "traceback": [
      "\u001b[0;31m---------------------------------------------------------------------------\u001b[0m",
      "\u001b[0;31mUntrustedTypesFoundException\u001b[0m              Traceback (most recent call last)",
      "Input \u001b[0;32mIn [17]\u001b[0m, in \u001b[0;36m<cell line: 2>\u001b[0;34m()\u001b[0m\n\u001b[1;32m      1\u001b[0m \u001b[38;5;28;01mimport\u001b[39;00m \u001b[38;5;21;01mskops\u001b[39;00m\u001b[38;5;21;01m.\u001b[39;00m\u001b[38;5;21;01mio\u001b[39;00m \u001b[38;5;28;01mas\u001b[39;00m \u001b[38;5;21;01msio\u001b[39;00m\n\u001b[0;32m----> 2\u001b[0m \u001b[43msio\u001b[49m\u001b[38;5;241;43m.\u001b[39;49m\u001b[43mloads\u001b[49m\u001b[43m(\u001b[49m\u001b[43msio\u001b[49m\u001b[38;5;241;43m.\u001b[39;49m\u001b[43mdumps\u001b[49m\u001b[43m(\u001b[49m\u001b[43mD\u001b[49m\u001b[43m(\u001b[49m\u001b[43m)\u001b[49m\u001b[43m)\u001b[49m\u001b[43m)\u001b[49m\n",
      "File \u001b[0;32m~/miniforge3/envs/talks/lib/python3.9/site-packages/skops/io/_persist.py:171\u001b[0m, in \u001b[0;36mloads\u001b[0;34m(data, trusted)\u001b[0m\n\u001b[1;32m    169\u001b[0m     load_context \u001b[38;5;241m=\u001b[39m LoadContext(src\u001b[38;5;241m=\u001b[39mzip_file, protocol\u001b[38;5;241m=\u001b[39mschema[\u001b[38;5;124m\"\u001b[39m\u001b[38;5;124mprotocol\u001b[39m\u001b[38;5;124m\"\u001b[39m])\n\u001b[1;32m    170\u001b[0m     tree \u001b[38;5;241m=\u001b[39m get_tree(schema, load_context)\n\u001b[0;32m--> 171\u001b[0m     \u001b[43maudit_tree\u001b[49m\u001b[43m(\u001b[49m\u001b[43mtree\u001b[49m\u001b[43m,\u001b[49m\u001b[43m \u001b[49m\u001b[43mtrusted\u001b[49m\u001b[43m)\u001b[49m\n\u001b[1;32m    172\u001b[0m     instance \u001b[38;5;241m=\u001b[39m tree\u001b[38;5;241m.\u001b[39mconstruct()\n\u001b[1;32m    174\u001b[0m \u001b[38;5;28;01mreturn\u001b[39;00m instance\n",
      "File \u001b[0;32m~/miniforge3/envs/talks/lib/python3.9/site-packages/skops/io/_audit.py:74\u001b[0m, in \u001b[0;36maudit_tree\u001b[0;34m(tree, trusted)\u001b[0m\n\u001b[1;32m     72\u001b[0m     unsafe \u001b[38;5;241m-\u001b[39m\u001b[38;5;241m=\u001b[39m \u001b[38;5;28mset\u001b[39m(trusted)\n\u001b[1;32m     73\u001b[0m \u001b[38;5;28;01mif\u001b[39;00m unsafe:\n\u001b[0;32m---> 74\u001b[0m     \u001b[38;5;28;01mraise\u001b[39;00m UntrustedTypesFoundException(unsafe)\n",
      "\u001b[0;31mUntrustedTypesFoundException\u001b[0m: Untrusted types found in the file: ['__main__.D']."
     ]
    }
   ],
   "source": [
    "import skops.io as sio\n",
    "sio.loads(sio.dumps(D()))"
   ]
  },
  {
   "cell_type": "code",
   "execution_count": 18,
   "id": "f66d73c8",
   "metadata": {},
   "outputs": [
    {
     "data": {
      "text/plain": [
       "<__main__.D at 0x7f310bbecee0>"
      ]
     },
     "execution_count": 18,
     "metadata": {},
     "output_type": "execute_result"
    }
   ],
   "source": [
    "sio.loads(sio.dumps(D()), trusted=['__main__.D'])"
   ]
  },
  {
   "cell_type": "code",
   "execution_count": 19,
   "id": "e3cf442a",
   "metadata": {},
   "outputs": [
    {
     "data": {
      "text/plain": [
       "<__main__.D at 0x7f310bbef4c0>"
      ]
     },
     "execution_count": 19,
     "metadata": {},
     "output_type": "execute_result"
    }
   ],
   "source": [
    "sio.loads(sio.dumps(D()), trusted=True)"
   ]
  },
  {
   "cell_type": "markdown",
   "id": "fb9a6816",
   "metadata": {},
   "source": [
    "### File content\n",
    "\n",
    "Let's check dumped files!"
   ]
  },
  {
   "cell_type": "code",
   "execution_count": 20,
   "id": "cee821b7",
   "metadata": {},
   "outputs": [],
   "source": [
    "sio.dump(D(), \"/tmp/dumps/D.skops\")"
   ]
  },
  {
   "cell_type": "code",
   "execution_count": 21,
   "id": "c2dc572a",
   "metadata": {},
   "outputs": [],
   "source": [
    "sio.dump(C(), \"/tmp/dumps/C.skops\")"
   ]
  },
  {
   "cell_type": "code",
   "execution_count": 22,
   "id": "d138a9a7",
   "metadata": {},
   "outputs": [],
   "source": [
    "sio.dump(clf, \"/tmp/dumps/lr.skops\")"
   ]
  },
  {
   "cell_type": "markdown",
   "id": "3cf81a39",
   "metadata": {},
   "source": [
    "## `numpy.save`\n",
    "\n",
    "https://numpy.org/doc/stable/reference/generated/numpy.save.html\n",
    "\n",
    "<div>\n",
    "<img src=\"figs/numpy-save.png\" width=\"600\"/>\n",
    "</div>"
   ]
  },
  {
   "cell_type": "markdown",
   "id": "45d29e6c",
   "metadata": {},
   "source": [
    "## `numpy.load`\n",
    "\n",
    "https://numpy.org/doc/stable/reference/generated/numpy.load.html\n",
    "\n",
    "<div>\n",
    "<img src=\"figs/numpy-load.png\" width=\"600\"/>\n",
    "</div>"
   ]
  },
  {
   "cell_type": "code",
   "execution_count": 23,
   "id": "a5ade642",
   "metadata": {},
   "outputs": [
    {
     "data": {
      "text/html": [
       "<style>#sk-container-id-1 {color: black;}#sk-container-id-1 pre{padding: 0;}#sk-container-id-1 div.sk-toggleable {background-color: white;}#sk-container-id-1 label.sk-toggleable__label {cursor: pointer;display: block;width: 100%;margin-bottom: 0;padding: 0.3em;box-sizing: border-box;text-align: center;}#sk-container-id-1 label.sk-toggleable__label-arrow:before {content: \"▸\";float: left;margin-right: 0.25em;color: #696969;}#sk-container-id-1 label.sk-toggleable__label-arrow:hover:before {color: black;}#sk-container-id-1 div.sk-estimator:hover label.sk-toggleable__label-arrow:before {color: black;}#sk-container-id-1 div.sk-toggleable__content {max-height: 0;max-width: 0;overflow: hidden;text-align: left;background-color: #f0f8ff;}#sk-container-id-1 div.sk-toggleable__content pre {margin: 0.2em;color: black;border-radius: 0.25em;background-color: #f0f8ff;}#sk-container-id-1 input.sk-toggleable__control:checked~div.sk-toggleable__content {max-height: 200px;max-width: 100%;overflow: auto;}#sk-container-id-1 input.sk-toggleable__control:checked~label.sk-toggleable__label-arrow:before {content: \"▾\";}#sk-container-id-1 div.sk-estimator input.sk-toggleable__control:checked~label.sk-toggleable__label {background-color: #d4ebff;}#sk-container-id-1 div.sk-label input.sk-toggleable__control:checked~label.sk-toggleable__label {background-color: #d4ebff;}#sk-container-id-1 input.sk-hidden--visually {border: 0;clip: rect(1px 1px 1px 1px);clip: rect(1px, 1px, 1px, 1px);height: 1px;margin: -1px;overflow: hidden;padding: 0;position: absolute;width: 1px;}#sk-container-id-1 div.sk-estimator {font-family: monospace;background-color: #f0f8ff;border: 1px dotted black;border-radius: 0.25em;box-sizing: border-box;margin-bottom: 0.5em;}#sk-container-id-1 div.sk-estimator:hover {background-color: #d4ebff;}#sk-container-id-1 div.sk-parallel-item::after {content: \"\";width: 100%;border-bottom: 1px solid gray;flex-grow: 1;}#sk-container-id-1 div.sk-label:hover label.sk-toggleable__label {background-color: #d4ebff;}#sk-container-id-1 div.sk-serial::before {content: \"\";position: absolute;border-left: 1px solid gray;box-sizing: border-box;top: 0;bottom: 0;left: 50%;z-index: 0;}#sk-container-id-1 div.sk-serial {display: flex;flex-direction: column;align-items: center;background-color: white;padding-right: 0.2em;padding-left: 0.2em;position: relative;}#sk-container-id-1 div.sk-item {position: relative;z-index: 1;}#sk-container-id-1 div.sk-parallel {display: flex;align-items: stretch;justify-content: center;background-color: white;position: relative;}#sk-container-id-1 div.sk-item::before, #sk-container-id-1 div.sk-parallel-item::before {content: \"\";position: absolute;border-left: 1px solid gray;box-sizing: border-box;top: 0;bottom: 0;left: 50%;z-index: -1;}#sk-container-id-1 div.sk-parallel-item {display: flex;flex-direction: column;z-index: 1;position: relative;background-color: white;}#sk-container-id-1 div.sk-parallel-item:first-child::after {align-self: flex-end;width: 50%;}#sk-container-id-1 div.sk-parallel-item:last-child::after {align-self: flex-start;width: 50%;}#sk-container-id-1 div.sk-parallel-item:only-child::after {width: 0;}#sk-container-id-1 div.sk-dashed-wrapped {border: 1px dashed gray;margin: 0 0.4em 0.5em 0.4em;box-sizing: border-box;padding-bottom: 0.4em;background-color: white;}#sk-container-id-1 div.sk-label label {font-family: monospace;font-weight: bold;display: inline-block;line-height: 1.2em;}#sk-container-id-1 div.sk-label-container {text-align: center;}#sk-container-id-1 div.sk-container {/* jupyter's `normalize.less` sets `[hidden] { display: none; }` but bootstrap.min.css set `[hidden] { display: none !important; }` so we also need the `!important` here to be able to override the default hidden behavior on the sphinx rendered scikit-learn.org. See: https://github.com/scikit-learn/scikit-learn/issues/21755 */display: inline-block !important;position: relative;}#sk-container-id-1 div.sk-text-repr-fallback {display: none;}</style><div id=\"sk-container-id-1\" class=\"sk-top-container\"><div class=\"sk-text-repr-fallback\"><pre>LogisticRegression(solver=&#x27;liblinear&#x27;)</pre><b>In a Jupyter environment, please rerun this cell to show the HTML representation or trust the notebook. <br />On GitHub, the HTML representation is unable to render, please try loading this page with nbviewer.org.</b></div><div class=\"sk-container\" hidden><div class=\"sk-item\"><div class=\"sk-estimator sk-toggleable\"><input class=\"sk-toggleable__control sk-hidden--visually\" id=\"sk-estimator-id-1\" type=\"checkbox\" checked><label for=\"sk-estimator-id-1\" class=\"sk-toggleable__label sk-toggleable__label-arrow\">LogisticRegression</label><div class=\"sk-toggleable__content\"><pre>LogisticRegression(solver=&#x27;liblinear&#x27;)</pre></div></div></div></div></div>"
      ],
      "text/plain": [
       "LogisticRegression(solver='liblinear')"
      ]
     },
     "execution_count": 23,
     "metadata": {},
     "output_type": "execute_result"
    }
   ],
   "source": [
    "sio.load(\"/tmp/dumps/lr.skops\")"
   ]
  },
  {
   "cell_type": "markdown",
   "id": "23c58f29",
   "metadata": {},
   "source": [
    "# `skops` format\n",
    "\n",
    "```\n",
    "zip file:\n",
    "    schema.json\n",
    "    139801436035376.npy\n",
    "    139803280731088.npy\n",
    "    139803280731952.npy\n",
    "    139803280801840.npy\n",
    "```"
   ]
  },
  {
   "cell_type": "markdown",
   "id": "8b96dd31",
   "metadata": {},
   "source": [
    "## Serializers and Loaders\n",
    "\n",
    "Default serializer/loader:\n",
    "\n",
    "- `__new__` to construct.\n",
    "- `__getstate__` and `__setstate__` to get and set attributes.\n",
    "\n",
    "Special treatment of\n",
    "- `dict`, `set`, `list`, `tuple`, `type`, `slice`\n",
    "- `partial`, methods, and functions\n",
    "- `numpy` and `scipy` arrays, `ufunc`s, and RNGs\n",
    "- scikit-learn's C extension types, some using `__reduce__`\n",
    "    - hard coded list of allowed objects\n",
    "    - some C extension types from non scikit-learn libs\n",
    "        - supported but not trusted by default\n",
    "- scikit-learn's custom objects"
   ]
  },
  {
   "cell_type": "markdown",
   "id": "5c12e798",
   "metadata": {},
   "source": [
    "## Loading Process\n",
    "\n",
    "- Load content into memory w/o constructing any objects\n",
    "- Check included types/functions against a trusted set\n",
    "- Construct objects if there's nothing we don't trust/know of\n",
    "    - this is where `__new__` and `__setstate__` are called"
   ]
  },
  {
   "cell_type": "markdown",
   "id": "87dfca92",
   "metadata": {},
   "source": [
    "# Web app: convert pickles to skops format\n",
    "- Uses Gradio: https://www.gradio.app/\n",
    "- Hosted on Hugging Face Spaces: https://huggingface.co/spaces/adrin/pickle-to-skops\n",
    "- Source code: https://huggingface.co/spaces/adrin/pickle-to-skops/tree/main"
   ]
  },
  {
   "cell_type": "markdown",
   "id": "87b63dbe",
   "metadata": {},
   "source": [
    "## Is it Safe?\n",
    "\n",
    "- No code is 100% safe!\n",
    "    - We're trying to make things safe\\[er\\]!\n",
    "-`zip` file vulnerabilities apply\n",
    "    - zip bomb\n",
    "- Raised exceptions\n",
    "- Very large objects"
   ]
  },
  {
   "cell_type": "markdown",
   "id": "71454ede",
   "metadata": {},
   "source": [
    "## Notes\n",
    "- Doesn't support any custom object with mandatory args to `__new__`\n",
    "- Supports other objects such as `xgboost`, `lightgbm`, etc."
   ]
  },
  {
   "cell_type": "markdown",
   "id": "b23135e6",
   "metadata": {},
   "source": [
    "## Roadmap\n",
    "- Trust more safe and commonly used types and functions by default\n",
    "- Speed improvements: memory mapping ndarrays, etc\n",
    "- Public protocol for third parties to implement to be \"`skops`able\"\n",
    "    - C extension types, currently via `__reduce__`, but only if we already know them"
   ]
  },
  {
   "cell_type": "markdown",
   "id": "390a4aac",
   "metadata": {},
   "source": [
    "## Help Us\n",
    "- Find vulnerabilities\n",
    "- Test it\n",
    "- Report issues on our issue tracker: https://github.com/skops-dev/skops/issues"
   ]
  }
 ],
 "metadata": {
  "kernelspec": {
   "display_name": "Python 3 (ipykernel)",
   "language": "python",
   "name": "python3"
  },
  "language_info": {
   "codemirror_mode": {
    "name": "ipython",
    "version": 3
   },
   "file_extension": ".py",
   "mimetype": "text/x-python",
   "name": "python",
   "nbconvert_exporter": "python",
   "pygments_lexer": "ipython3",
   "version": "3.9.13"
  }
 },
 "nbformat": 4,
 "nbformat_minor": 5
}
