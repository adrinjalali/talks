{
 "cells": [
  {
   "cell_type": "markdown",
   "id": "56fc6609",
   "metadata": {},
   "source": [
    "<h1><center>Dynamically generated methods with a non-generic signature</center></h1>\n",
    "<h2><center>A scikit-learn use-case!</center></h2>\n",
    "<h3><center>Adrin Jalali</center></h3>\n",
    "<h4><center>@adrin@kolektiva.social</center></h3>\n",
    "<h4><center>https://github.com/adrinjalali/talks</center></h3>\n",
    "<h4><center>July 2023</center></h3>"
   ]
  },
  {
   "cell_type": "markdown",
   "id": "bc750b6a",
   "metadata": {},
   "source": [
    "## Me\n",
    "- PhD in interpretable methods for cancer diagnostics\n",
    "- ML consulting\n",
    "- Worked in an algorithmic privacy and fairness team\n",
    "- Open source\n",
    "    - `scikit-learn`\n",
    "    - `fairlearn`\n",
    "    - `skops`"
   ]
  },
  {
   "cell_type": "markdown",
   "id": "2d84eef3",
   "metadata": {},
   "source": [
    "## Prerequisites\n",
    "- `f(*args, **kwargs)`\n",
    "- `setattr`, `getattr`, `hasattr`\n",
    "- Dunder methods / attributes, e.g. `__init__`, `__str__`, ...\n",
    "- Inheritance\n",
    "- Type annotations, `typing.Optional`\n",
    "- `help(obj)`"
   ]
  },
  {
   "cell_type": "markdown",
   "id": "7ead4cba",
   "metadata": {},
   "source": [
    "## Motivation: Metadata Routing\n",
    "\n",
    "```py\n",
    "from sklearn.base import BaseEstimator, TransformerMixin\n",
    "\n",
    "class MyTransformer(TransformerMixin, BaseEstimator):\n",
    "    ...\n",
    "    def fit(self, X, y, sample_weight=None, other_metadata=None):\n",
    "        ...\n",
    "        \n",
    "```"
   ]
  },
  {
   "cell_type": "markdown",
   "id": "dfbbdac2",
   "metadata": {},
   "source": [
    "```py\n",
    "trs = (\n",
    "    MyTransformer()\n",
    "    .set_fit_request(sample_weight=True, other_metadata=False)\n",
    ")\n",
    "pipe = Pipeline([(\"transformer\", trs)]).fit(\n",
    "    X, y, sample_weight=sample_weight\n",
    ")\n",
    "```"
   ]
  },
  {
   "cell_type": "markdown",
   "id": "4d999677",
   "metadata": {},
   "source": [
    "## Requirements\n",
    "- No change in estimators\n",
    "- Should work for third party estimators inheriting from `BaseEstimator`\n",
    "- With a specific signature rather than `set_fit_request(*args, **kwargs)`\n",
    "- A good docstring"
   ]
  },
  {
   "cell_type": "markdown",
   "id": "8b101c8d",
   "metadata": {},
   "source": [
    "## Steps\n",
    "- `inspect` to introspect functions\n",
    "- `inspect.Signature` to read and create a function signature\n",
    "- a descriptor returning a function\n",
    "    - set the docstring and signature of the function as needed\n",
    "- use `__init_subclass__` to set the required descriptors"
   ]
  },
  {
   "cell_type": "markdown",
   "id": "3b1ef5dd",
   "metadata": {},
   "source": [
    "## `inspect` / `Signature`"
   ]
  },
  {
   "cell_type": "code",
   "execution_count": null,
   "id": "a3f778c7",
   "metadata": {},
   "outputs": [],
   "source": [
    "def f(a: int, *args, b=None, **kwargs):\n",
    "    pass\n",
    "\n",
    "class A:\n",
    "    def g(self, r, *args, s=None, **kwargs):\n",
    "        pass"
   ]
  },
  {
   "cell_type": "code",
   "execution_count": null,
   "id": "97fe4f8f",
   "metadata": {},
   "outputs": [],
   "source": [
    "import inspect\n",
    "inspect.isfunction(f)"
   ]
  },
  {
   "cell_type": "code",
   "execution_count": null,
   "id": "80857e65",
   "metadata": {},
   "outputs": [],
   "source": [
    "inspect.isfunction(A().g)"
   ]
  },
  {
   "cell_type": "code",
   "execution_count": null,
   "id": "b784d407",
   "metadata": {},
   "outputs": [],
   "source": [
    "inspect.ismethod(A().g)"
   ]
  },
  {
   "cell_type": "code",
   "execution_count": null,
   "id": "afc1639b",
   "metadata": {},
   "outputs": [],
   "source": [
    "inspect.isfunction(A.g)"
   ]
  },
  {
   "cell_type": "code",
   "execution_count": null,
   "id": "aee81402",
   "metadata": {},
   "outputs": [],
   "source": [
    "inspect.signature(f)"
   ]
  },
  {
   "cell_type": "code",
   "execution_count": null,
   "id": "8accd248",
   "metadata": {},
   "outputs": [],
   "source": [
    "for pname, param in inspect.signature(f).parameters.items():\n",
    "    print(pname, param.kind, param.default, param.annotation)"
   ]
  },
  {
   "cell_type": "code",
   "execution_count": null,
   "id": "b449d51d",
   "metadata": {},
   "outputs": [],
   "source": [
    "for pname, param in inspect.signature(A.g).parameters.items():\n",
    "    print(pname, param.kind, param.default, param.annotation)"
   ]
  },
  {
   "cell_type": "code",
   "execution_count": null,
   "id": "888ed2ae",
   "metadata": {},
   "outputs": [],
   "source": [
    "for pname, param in inspect.signature(A().g).parameters.items():\n",
    "    print(pname, param.kind, param.default, param.annotation)"
   ]
  },
  {
   "cell_type": "markdown",
   "id": "91c1be4b",
   "metadata": {},
   "source": [
    "More on `inspect`: https://docs.python.org/3/library/inspect.html"
   ]
  },
  {
   "cell_type": "markdown",
   "id": "c0f67f1b",
   "metadata": {},
   "source": [
    "## Returning a Function"
   ]
  },
  {
   "cell_type": "code",
   "execution_count": null,
   "id": "2ffdd3f5",
   "metadata": {},
   "outputs": [],
   "source": [
    "def add_5(x):\n",
    "    return x + 5\n",
    "\n",
    "add_5(4)"
   ]
  },
  {
   "cell_type": "code",
   "execution_count": null,
   "id": "76903815",
   "metadata": {},
   "outputs": [],
   "source": [
    "def create_adder(value):\n",
    "    def f(x):\n",
    "        return x + value\n",
    "    return f\n",
    "\n",
    "add_5 = create_adder(5)\n",
    "add_5(4)"
   ]
  },
  {
   "cell_type": "code",
   "execution_count": null,
   "id": "6824ebea",
   "metadata": {},
   "outputs": [],
   "source": [
    "def create_adder(value):\n",
    "    return lambda x: x + value\n",
    "\n",
    "add_4 = create_adder(4)\n",
    "add_4(3)"
   ]
  },
  {
   "cell_type": "markdown",
   "id": "88bd07cf",
   "metadata": {},
   "source": [
    "## Change a function's \"outfit\""
   ]
  },
  {
   "cell_type": "code",
   "execution_count": null,
   "id": "cc63a4b5",
   "metadata": {},
   "outputs": [],
   "source": [
    "def f(*args):\n",
    "    \"\"\"This text.\"\"\"\n",
    "    res = 0\n",
    "    for x in args:\n",
    "        res += x\n",
    "    return res\n",
    "\n",
    "help(f)"
   ]
  },
  {
   "cell_type": "code",
   "execution_count": null,
   "id": "93fb4909",
   "metadata": {},
   "outputs": [],
   "source": [
    "f(1, 2, 3)"
   ]
  },
  {
   "cell_type": "code",
   "execution_count": null,
   "id": "c42515f1",
   "metadata": {},
   "outputs": [],
   "source": [
    "f.__doc__"
   ]
  },
  {
   "cell_type": "code",
   "execution_count": null,
   "id": "eb4b6d0b",
   "metadata": {},
   "outputs": [],
   "source": [
    "f.__name__"
   ]
  },
  {
   "cell_type": "code",
   "execution_count": null,
   "id": "bd52d414",
   "metadata": {},
   "outputs": [],
   "source": [
    "inspect.signature(f)"
   ]
  },
  {
   "cell_type": "code",
   "execution_count": null,
   "id": "18f6590b",
   "metadata": {},
   "outputs": [],
   "source": [
    "from typing import Optional\n",
    "\n",
    "f.__name__ = \"adder\"\n",
    "\n",
    "params = [\n",
    "    inspect.Parameter(\n",
    "        \"a\",\n",
    "        inspect.Parameter.POSITIONAL_OR_KEYWORD,\n",
    "        default=0,\n",
    "        annotation=Optional[float],\n",
    "    ),\n",
    "    inspect.Parameter(\n",
    "        \"b\",\n",
    "        inspect.Parameter.POSITIONAL_OR_KEYWORD,\n",
    "        default=0,\n",
    "        annotation=Optional[float],\n",
    "    ),\n",
    "]\n",
    "f.__signature__ = inspect.Signature(\n",
    "    params,\n",
    "    return_annotation=float,\n",
    ")\n",
    "\n",
    "f.__doc__ = \"\"\"This function returns the sum of inputs.\n",
    "\n",
    "Parameters\n",
    "----------\n",
    "a : float\n",
    "    A first floating point value.\n",
    "    \n",
    "b : float\n",
    "    A second floating point value.\n",
    "    \n",
    "Returns\n",
    "-------\n",
    "float\n",
    "    What the sum of a and be would be.\n",
    "\"\"\""
   ]
  },
  {
   "cell_type": "code",
   "execution_count": null,
   "id": "ef5dd7de",
   "metadata": {},
   "outputs": [],
   "source": [
    "help(f)"
   ]
  },
  {
   "cell_type": "code",
   "execution_count": null,
   "id": "17f31b29",
   "metadata": {},
   "outputs": [],
   "source": [
    "inspect.signature(f)"
   ]
  },
  {
   "cell_type": "code",
   "execution_count": null,
   "id": "b6d560ca",
   "metadata": {},
   "outputs": [],
   "source": [
    "f(1, 2, 3)"
   ]
  },
  {
   "cell_type": "markdown",
   "id": "91a8dbf0",
   "metadata": {},
   "source": [
    "More on Python's `Signature` object: https://peps.python.org/pep-0362/"
   ]
  },
  {
   "cell_type": "markdown",
   "id": "8ab3054a",
   "metadata": {},
   "source": [
    "## Descriptors"
   ]
  },
  {
   "cell_type": "code",
   "execution_count": null,
   "id": "30459a59",
   "metadata": {},
   "outputs": [],
   "source": [
    "class Pet:\n",
    "    def __init__(self, name):\n",
    "        print(\"descriptor init\")\n",
    "        self.name = name\n",
    "        \n",
    "    def __get__(self, instance, owner_type=None):\n",
    "        print(\"in __get__\")\n",
    "        return f\"I'm {self.name}!\"\n",
    "\n",
    "print(\"defined descriptr class\")\n",
    "    \n",
    "class A:\n",
    "    pet = Pet(\"Goose\")\n",
    "\n",
    "print(\"accessing pet\")\n",
    "A().pet"
   ]
  },
  {
   "cell_type": "code",
   "execution_count": null,
   "id": "96c52ad0",
   "metadata": {},
   "outputs": [],
   "source": [
    "class Pet:\n",
    "    def __init__(self, name):\n",
    "        self.name = name\n",
    "        \n",
    "    def __get__(self, instance, owner_type=None):\n",
    "        return f\"I'm {self.name} and my owner is {instance.name}!\"\n",
    "    \n",
    "class A:\n",
    "    pet = Pet(\"Goose\")\n",
    "    def __init__(self, name):\n",
    "        self.name = name\n",
    "    \n",
    "A(\"Adrin\").pet"
   ]
  },
  {
   "cell_type": "code",
   "execution_count": null,
   "id": "1ebe021e",
   "metadata": {},
   "outputs": [],
   "source": [
    "class RequestMethod:\n",
    "    def __init__(self, keys):\n",
    "        # accepted arguments to the function\n",
    "        self.keys = keys\n",
    "        \n",
    "    def __get__(self, instance, owner_type=None):\n",
    "        def f(**kwargs):\n",
    "            extra_keys = set(kwargs) - set(self.keys)\n",
    "            if extra_keys:\n",
    "                raise TypeError(\n",
    "                    f\"Unexpected arguments: {extra_keys}\"\n",
    "                )\n",
    "            \n",
    "            for key, value in kwargs.items():\n",
    "                setattr(instance, f\"request_{key}\", value)\n",
    "                \n",
    "            return instance\n",
    "                \n",
    "        return f\n",
    "    \n",
    "class Estimator:\n",
    "    set_fit_request = RequestMethod([\"sample_weight\"])\n"
   ]
  },
  {
   "cell_type": "code",
   "execution_count": null,
   "id": "01ddd44d",
   "metadata": {},
   "outputs": [],
   "source": [
    "est = Estimator().set_fit_request(sample_weight=True)\n",
    "est.request_sample_weight"
   ]
  },
  {
   "cell_type": "code",
   "execution_count": null,
   "id": "e348c76a",
   "metadata": {},
   "outputs": [],
   "source": [
    "est.set_fit_request(param=False)"
   ]
  },
  {
   "cell_type": "code",
   "execution_count": null,
   "id": "ad40b512",
   "metadata": {},
   "outputs": [],
   "source": [
    "help(est.set_fit_request)"
   ]
  },
  {
   "cell_type": "code",
   "execution_count": null,
   "id": "2b0a72b2",
   "metadata": {},
   "outputs": [],
   "source": [
    "def get_signature(owner, keys):\n",
    "    params = [\n",
    "        inspect.Parameter(\n",
    "            name=\"self\",\n",
    "            kind=inspect.Parameter.POSITIONAL_OR_KEYWORD,\n",
    "            annotation=owner,\n",
    "        )\n",
    "    ]\n",
    "    params.extend(\n",
    "        [\n",
    "            inspect.Parameter(\n",
    "                k,\n",
    "                inspect.Parameter.KEYWORD_ONLY,\n",
    "                default=None,\n",
    "                annotation=Optional[bool],\n",
    "            )\n",
    "            for k in keys\n",
    "        ]\n",
    "    )\n",
    "    return inspect.Signature(\n",
    "        params,\n",
    "        return_annotation=owner,\n",
    "    )\n",
    "    "
   ]
  },
  {
   "cell_type": "code",
   "execution_count": null,
   "id": "730010ca",
   "metadata": {},
   "outputs": [],
   "source": [
    "class RequestMethod:\n",
    "    def __init__(self, keys, method_name):\n",
    "        self.keys = keys\n",
    "        self.method_name = method_name\n",
    "    \n",
    "    def __get__(self, instance, owner_type=None):\n",
    "        def f(**kwargs):\n",
    "            extra_keys = set(kwargs) - set(self.keys)\n",
    "            if extra_keys:\n",
    "                raise TypeError(\n",
    "                    f\"Unexpected arguments: {extra_keys}\"\n",
    "                )\n",
    "            \n",
    "            for key, value in kwargs.items():\n",
    "                setattr(instance, f\"request_{key}\", value)\n",
    "                \n",
    "            return instance\n",
    "        \n",
    "        f.__name__ = self.method_name\n",
    "        f.__doc__ = \"Custom docstring here with all the info.\"\n",
    "        f.__signature__ = get_signature(owner_type, self.keys)\n",
    "        \n",
    "        return f\n",
    "    \n",
    "class Estimator:\n",
    "    set_fit_request = RequestMethod(\n",
    "        [\"sample_weight\"],\n",
    "        method_name=\"set_fit_request\"\n",
    "    )\n",
    "\n",
    "help(Estimator.set_fit_request)"
   ]
  },
  {
   "cell_type": "markdown",
   "id": "b172c1f7",
   "metadata": {},
   "source": [
    "More on descriptors: https://docs.python.org/3/howto/descriptor.html"
   ]
  },
  {
   "cell_type": "markdown",
   "id": "4ebaddff",
   "metadata": {},
   "source": [
    "## `__init_subclass__`"
   ]
  },
  {
   "cell_type": "code",
   "execution_count": null,
   "id": "417cfd62",
   "metadata": {},
   "outputs": [],
   "source": [
    "class Estimator:\n",
    "    def fit(self, X, y, sample_weight=None):\n",
    "        pass\n",
    "    \n",
    "    def set_fit_request(self, sample_weight=None):\n",
    "        # we want this automatically generated\n",
    "        pass"
   ]
  },
  {
   "cell_type": "code",
   "execution_count": null,
   "id": "aa262bca",
   "metadata": {},
   "outputs": [],
   "source": [
    "class Parent:\n",
    "    def __init_subclass__(cls, **kwargs):\n",
    "        print(cls)\n",
    "        cls.attr = 5\n",
    "        super().__init_subclass__(**kwargs)\n",
    "\n",
    "print(\"defined Parent\")\n",
    "\n",
    "class Child(Parent):\n",
    "    def __init__(self):\n",
    "        print(\"creating instance\")\n",
    "\n",
    "print(\"Defined Child\")\n",
    "Child().attr"
   ]
  },
  {
   "cell_type": "code",
   "execution_count": null,
   "id": "54d32790",
   "metadata": {},
   "outputs": [],
   "source": [
    "class Parent:\n",
    "    def __init_subclass__(cls, **kwargs):\n",
    "        if (\n",
    "            hasattr(cls, \"fit\") \n",
    "            and inspect.isfunction(getattr(cls, \"fit\"))\n",
    "        ):\n",
    "            print(inspect.signature(getattr(cls, \"fit\")))\n",
    "        super().__init_subclass__(**kwargs)\n",
    "        \n",
    "class Estimator(Parent):\n",
    "    def fit(self, X, y, sample_weight=None):\n",
    "        pass\n"
   ]
  },
  {
   "cell_type": "code",
   "execution_count": null,
   "id": "ec9bcc7d",
   "metadata": {},
   "outputs": [],
   "source": [
    "class Parent:\n",
    "    def __init_subclass__(cls, **kwargs):\n",
    "        if (\n",
    "            hasattr(cls, \"fit\") \n",
    "            and inspect.isfunction(getattr(cls, \"fit\"))\n",
    "        ):\n",
    "            method_signature = inspect.signature(\n",
    "                getattr(cls, \"fit\")\n",
    "            )\n",
    "            params = [\n",
    "                pname for pname in method_signature.parameters\n",
    "                if pname not in {\"self\", \"X\", \"y\"}\n",
    "            ]\n",
    "            setattr(\n",
    "                cls,\n",
    "                \"set_fit_request\", \n",
    "                RequestMethod(\n",
    "                    keys=params,\n",
    "                    method_name=\"set_fit_request\"\n",
    "                )\n",
    "            )\n",
    "        super().__init_subclass__(**kwargs)\n",
    "        \n",
    "class Estimator(Parent):\n",
    "    def fit(self, X, y, sample_weight=None):\n",
    "        pass\n"
   ]
  },
  {
   "cell_type": "code",
   "execution_count": null,
   "id": "99d1af3e",
   "metadata": {},
   "outputs": [],
   "source": [
    "Estimator().set_fit_request(sample_weight=True)"
   ]
  },
  {
   "cell_type": "code",
   "execution_count": null,
   "id": "115b4270",
   "metadata": {},
   "outputs": [],
   "source": [
    "help(Estimator().set_fit_request)"
   ]
  },
  {
   "cell_type": "markdown",
   "id": "7bf226f3",
   "metadata": {},
   "source": [
    "More on `__init_subclass__`: https://peps.python.org/pep-0487/"
   ]
  },
  {
   "cell_type": "markdown",
   "id": "295216a1",
   "metadata": {},
   "source": [
    "## Summary\n",
    "- `inspect` to introspect functions\n",
    "- `inspect.Signature` to read and create a function signature\n",
    "- a descriptor returning a function\n",
    "    - set the docstring and signature of the function as needed\n",
    "- used `__init_subclass__` to set the required descriptors"
   ]
  },
  {
   "cell_type": "markdown",
   "id": "37261bf0",
   "metadata": {},
   "source": [
    "<h1><center>❦ Thank YOU! ❦</center></h1>\n",
    "<h2><center>Questions?</center></h2>"
   ]
  }
 ],
 "metadata": {
  "kernelspec": {
   "display_name": "Python 3 (ipykernel)",
   "language": "python",
   "name": "python3"
  },
  "language_info": {
   "codemirror_mode": {
    "name": "ipython",
    "version": 3
   },
   "file_extension": ".py",
   "mimetype": "text/x-python",
   "name": "python",
   "nbconvert_exporter": "python",
   "pygments_lexer": "ipython3",
   "version": "3.9.13"
  }
 },
 "nbformat": 4,
 "nbformat_minor": 5
}
